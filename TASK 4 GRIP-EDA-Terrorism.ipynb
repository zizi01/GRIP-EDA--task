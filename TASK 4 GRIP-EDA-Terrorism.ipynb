{
 "cells": [
  {
   "cell_type": "markdown",
   "metadata": {},
   "source": [
    "# Task-4 Graduate Rotational Internship Program (GRIP - SEP 2021) organised by The Sparks Foundation.\n",
    "***Author: KM ANJU (Intern sep 2021)***"
   ]
  },
  {
   "cell_type": "markdown",
   "metadata": {},
   "source": [
    "# Exploratory Data Analysis - Terrorism\n",
    "Exploratory data analysis (EDA) is used by data scientists to analyze and investigate data sets and summarize their main characteristics.\n",
    "It also helps to determine if the statistical techniques that are being considering for data analysis are appropriate.\n",
    "\n",
    "***Que. Perform ‘Exploratory Data Analysis’ on dataset ‘Global Terrorism’.***\n",
    "\n",
    "**Aim: To find out the hot zone of terrorism and derive all security issues and insights**"
   ]
  },
  {
   "cell_type": "code",
   "execution_count": 1,
   "metadata": {},
   "outputs": [],
   "source": [
    "import numpy as np\n",
    "import pandas as pd\n",
    "import matplotlib.pyplot as plt\n",
    "import seaborn as sns\n",
    "%matplotlib inline"
   ]
  },
  {
   "cell_type": "code",
   "execution_count": 2,
   "metadata": {},
   "outputs": [
    {
     "data": {
      "text/html": [
       "<div>\n",
       "<style scoped>\n",
       "    .dataframe tbody tr th:only-of-type {\n",
       "        vertical-align: middle;\n",
       "    }\n",
       "\n",
       "    .dataframe tbody tr th {\n",
       "        vertical-align: top;\n",
       "    }\n",
       "\n",
       "    .dataframe thead th {\n",
       "        text-align: right;\n",
       "    }\n",
       "</style>\n",
       "<table border=\"1\" class=\"dataframe\">\n",
       "  <thead>\n",
       "    <tr style=\"text-align: right;\">\n",
       "      <th></th>\n",
       "      <th>eventid</th>\n",
       "      <th>iyear</th>\n",
       "      <th>imonth</th>\n",
       "      <th>iday</th>\n",
       "      <th>approxdate</th>\n",
       "      <th>extended</th>\n",
       "      <th>resolution</th>\n",
       "      <th>country</th>\n",
       "      <th>country_txt</th>\n",
       "      <th>region</th>\n",
       "      <th>...</th>\n",
       "      <th>addnotes</th>\n",
       "      <th>scite1</th>\n",
       "      <th>scite2</th>\n",
       "      <th>scite3</th>\n",
       "      <th>dbsource</th>\n",
       "      <th>INT_LOG</th>\n",
       "      <th>INT_IDEO</th>\n",
       "      <th>INT_MISC</th>\n",
       "      <th>INT_ANY</th>\n",
       "      <th>related</th>\n",
       "    </tr>\n",
       "  </thead>\n",
       "  <tbody>\n",
       "    <tr>\n",
       "      <th>0</th>\n",
       "      <td>197000000001</td>\n",
       "      <td>1970</td>\n",
       "      <td>7</td>\n",
       "      <td>2</td>\n",
       "      <td>NaN</td>\n",
       "      <td>0</td>\n",
       "      <td>NaN</td>\n",
       "      <td>58</td>\n",
       "      <td>Dominican Republic</td>\n",
       "      <td>2</td>\n",
       "      <td>...</td>\n",
       "      <td>NaN</td>\n",
       "      <td>NaN</td>\n",
       "      <td>NaN</td>\n",
       "      <td>NaN</td>\n",
       "      <td>PGIS</td>\n",
       "      <td>0</td>\n",
       "      <td>0</td>\n",
       "      <td>0</td>\n",
       "      <td>0</td>\n",
       "      <td>NaN</td>\n",
       "    </tr>\n",
       "    <tr>\n",
       "      <th>1</th>\n",
       "      <td>197000000002</td>\n",
       "      <td>1970</td>\n",
       "      <td>0</td>\n",
       "      <td>0</td>\n",
       "      <td>NaN</td>\n",
       "      <td>0</td>\n",
       "      <td>NaN</td>\n",
       "      <td>130</td>\n",
       "      <td>Mexico</td>\n",
       "      <td>1</td>\n",
       "      <td>...</td>\n",
       "      <td>NaN</td>\n",
       "      <td>NaN</td>\n",
       "      <td>NaN</td>\n",
       "      <td>NaN</td>\n",
       "      <td>PGIS</td>\n",
       "      <td>0</td>\n",
       "      <td>1</td>\n",
       "      <td>1</td>\n",
       "      <td>1</td>\n",
       "      <td>NaN</td>\n",
       "    </tr>\n",
       "    <tr>\n",
       "      <th>2</th>\n",
       "      <td>197001000001</td>\n",
       "      <td>1970</td>\n",
       "      <td>1</td>\n",
       "      <td>0</td>\n",
       "      <td>NaN</td>\n",
       "      <td>0</td>\n",
       "      <td>NaN</td>\n",
       "      <td>160</td>\n",
       "      <td>Philippines</td>\n",
       "      <td>5</td>\n",
       "      <td>...</td>\n",
       "      <td>NaN</td>\n",
       "      <td>NaN</td>\n",
       "      <td>NaN</td>\n",
       "      <td>NaN</td>\n",
       "      <td>PGIS</td>\n",
       "      <td>-9</td>\n",
       "      <td>-9</td>\n",
       "      <td>1</td>\n",
       "      <td>1</td>\n",
       "      <td>NaN</td>\n",
       "    </tr>\n",
       "    <tr>\n",
       "      <th>3</th>\n",
       "      <td>197001000002</td>\n",
       "      <td>1970</td>\n",
       "      <td>1</td>\n",
       "      <td>0</td>\n",
       "      <td>NaN</td>\n",
       "      <td>0</td>\n",
       "      <td>NaN</td>\n",
       "      <td>78</td>\n",
       "      <td>Greece</td>\n",
       "      <td>8</td>\n",
       "      <td>...</td>\n",
       "      <td>NaN</td>\n",
       "      <td>NaN</td>\n",
       "      <td>NaN</td>\n",
       "      <td>NaN</td>\n",
       "      <td>PGIS</td>\n",
       "      <td>-9</td>\n",
       "      <td>-9</td>\n",
       "      <td>1</td>\n",
       "      <td>1</td>\n",
       "      <td>NaN</td>\n",
       "    </tr>\n",
       "    <tr>\n",
       "      <th>4</th>\n",
       "      <td>197001000003</td>\n",
       "      <td>1970</td>\n",
       "      <td>1</td>\n",
       "      <td>0</td>\n",
       "      <td>NaN</td>\n",
       "      <td>0</td>\n",
       "      <td>NaN</td>\n",
       "      <td>101</td>\n",
       "      <td>Japan</td>\n",
       "      <td>4</td>\n",
       "      <td>...</td>\n",
       "      <td>NaN</td>\n",
       "      <td>NaN</td>\n",
       "      <td>NaN</td>\n",
       "      <td>NaN</td>\n",
       "      <td>PGIS</td>\n",
       "      <td>-9</td>\n",
       "      <td>-9</td>\n",
       "      <td>1</td>\n",
       "      <td>1</td>\n",
       "      <td>NaN</td>\n",
       "    </tr>\n",
       "  </tbody>\n",
       "</table>\n",
       "<p>5 rows × 135 columns</p>\n",
       "</div>"
      ],
      "text/plain": [
       "        eventid  iyear  imonth  iday approxdate  extended resolution  country  \\\n",
       "0  197000000001   1970       7     2        NaN         0        NaN       58   \n",
       "1  197000000002   1970       0     0        NaN         0        NaN      130   \n",
       "2  197001000001   1970       1     0        NaN         0        NaN      160   \n",
       "3  197001000002   1970       1     0        NaN         0        NaN       78   \n",
       "4  197001000003   1970       1     0        NaN         0        NaN      101   \n",
       "\n",
       "          country_txt  region  ... addnotes scite1 scite2  scite3  dbsource  \\\n",
       "0  Dominican Republic       2  ...      NaN    NaN    NaN     NaN      PGIS   \n",
       "1              Mexico       1  ...      NaN    NaN    NaN     NaN      PGIS   \n",
       "2         Philippines       5  ...      NaN    NaN    NaN     NaN      PGIS   \n",
       "3              Greece       8  ...      NaN    NaN    NaN     NaN      PGIS   \n",
       "4               Japan       4  ...      NaN    NaN    NaN     NaN      PGIS   \n",
       "\n",
       "   INT_LOG  INT_IDEO INT_MISC INT_ANY  related  \n",
       "0        0         0        0       0      NaN  \n",
       "1        0         1        1       1      NaN  \n",
       "2       -9        -9        1       1      NaN  \n",
       "3       -9        -9        1       1      NaN  \n",
       "4       -9        -9        1       1      NaN  \n",
       "\n",
       "[5 rows x 135 columns]"
      ]
     },
     "execution_count": 2,
     "metadata": {},
     "output_type": "execute_result"
    }
   ],
   "source": [
    "t = pd.read_csv('globalterrorismdb_0718dist.csv', encoding='latin1', low_memory=False)\n",
    "t.head()"
   ]
  },
  {
   "cell_type": "code",
   "execution_count": 3,
   "metadata": {},
   "outputs": [
    {
     "name": "stdout",
     "output_type": "stream",
     "text": [
      "<class 'pandas.core.frame.DataFrame'>\n",
      "RangeIndex: 181691 entries, 0 to 181690\n",
      "Columns: 135 entries, eventid to related\n",
      "dtypes: float64(55), int64(22), object(58)\n",
      "memory usage: 187.1+ MB\n"
     ]
    }
   ],
   "source": [
    "\n",
    "t.info()"
   ]
  },
  {
   "cell_type": "code",
   "execution_count": 4,
   "metadata": {},
   "outputs": [
    {
     "data": {
      "text/html": [
       "<div>\n",
       "<style scoped>\n",
       "    .dataframe tbody tr th:only-of-type {\n",
       "        vertical-align: middle;\n",
       "    }\n",
       "\n",
       "    .dataframe tbody tr th {\n",
       "        vertical-align: top;\n",
       "    }\n",
       "\n",
       "    .dataframe thead th {\n",
       "        text-align: right;\n",
       "    }\n",
       "</style>\n",
       "<table border=\"1\" class=\"dataframe\">\n",
       "  <thead>\n",
       "    <tr style=\"text-align: right;\">\n",
       "      <th></th>\n",
       "      <th>eventid</th>\n",
       "      <th>iyear</th>\n",
       "      <th>imonth</th>\n",
       "      <th>iday</th>\n",
       "      <th>extended</th>\n",
       "      <th>country</th>\n",
       "      <th>region</th>\n",
       "      <th>latitude</th>\n",
       "      <th>longitude</th>\n",
       "      <th>specificity</th>\n",
       "      <th>...</th>\n",
       "      <th>ransomamt</th>\n",
       "      <th>ransomamtus</th>\n",
       "      <th>ransompaid</th>\n",
       "      <th>ransompaidus</th>\n",
       "      <th>hostkidoutcome</th>\n",
       "      <th>nreleased</th>\n",
       "      <th>INT_LOG</th>\n",
       "      <th>INT_IDEO</th>\n",
       "      <th>INT_MISC</th>\n",
       "      <th>INT_ANY</th>\n",
       "    </tr>\n",
       "  </thead>\n",
       "  <tbody>\n",
       "    <tr>\n",
       "      <th>count</th>\n",
       "      <td>1.816910e+05</td>\n",
       "      <td>181691.000000</td>\n",
       "      <td>181691.000000</td>\n",
       "      <td>181691.000000</td>\n",
       "      <td>181691.000000</td>\n",
       "      <td>181691.000000</td>\n",
       "      <td>181691.000000</td>\n",
       "      <td>177135.000000</td>\n",
       "      <td>1.771340e+05</td>\n",
       "      <td>181685.000000</td>\n",
       "      <td>...</td>\n",
       "      <td>1.350000e+03</td>\n",
       "      <td>5.630000e+02</td>\n",
       "      <td>7.740000e+02</td>\n",
       "      <td>552.000000</td>\n",
       "      <td>10991.000000</td>\n",
       "      <td>10400.000000</td>\n",
       "      <td>181691.000000</td>\n",
       "      <td>181691.000000</td>\n",
       "      <td>181691.000000</td>\n",
       "      <td>181691.000000</td>\n",
       "    </tr>\n",
       "    <tr>\n",
       "      <th>mean</th>\n",
       "      <td>2.002705e+11</td>\n",
       "      <td>2002.638997</td>\n",
       "      <td>6.467277</td>\n",
       "      <td>15.505644</td>\n",
       "      <td>0.045346</td>\n",
       "      <td>131.968501</td>\n",
       "      <td>7.160938</td>\n",
       "      <td>23.498343</td>\n",
       "      <td>-4.586957e+02</td>\n",
       "      <td>1.451452</td>\n",
       "      <td>...</td>\n",
       "      <td>3.172530e+06</td>\n",
       "      <td>5.784865e+05</td>\n",
       "      <td>7.179437e+05</td>\n",
       "      <td>240.378623</td>\n",
       "      <td>4.629242</td>\n",
       "      <td>-29.018269</td>\n",
       "      <td>-4.543731</td>\n",
       "      <td>-4.464398</td>\n",
       "      <td>0.090010</td>\n",
       "      <td>-3.945952</td>\n",
       "    </tr>\n",
       "    <tr>\n",
       "      <th>std</th>\n",
       "      <td>1.325957e+09</td>\n",
       "      <td>13.259430</td>\n",
       "      <td>3.388303</td>\n",
       "      <td>8.814045</td>\n",
       "      <td>0.208063</td>\n",
       "      <td>112.414535</td>\n",
       "      <td>2.933408</td>\n",
       "      <td>18.569242</td>\n",
       "      <td>2.047790e+05</td>\n",
       "      <td>0.995430</td>\n",
       "      <td>...</td>\n",
       "      <td>3.021157e+07</td>\n",
       "      <td>7.077924e+06</td>\n",
       "      <td>1.014392e+07</td>\n",
       "      <td>2940.967293</td>\n",
       "      <td>2.035360</td>\n",
       "      <td>65.720119</td>\n",
       "      <td>4.543547</td>\n",
       "      <td>4.637152</td>\n",
       "      <td>0.568457</td>\n",
       "      <td>4.691325</td>\n",
       "    </tr>\n",
       "    <tr>\n",
       "      <th>min</th>\n",
       "      <td>1.970000e+11</td>\n",
       "      <td>1970.000000</td>\n",
       "      <td>0.000000</td>\n",
       "      <td>0.000000</td>\n",
       "      <td>0.000000</td>\n",
       "      <td>4.000000</td>\n",
       "      <td>1.000000</td>\n",
       "      <td>-53.154613</td>\n",
       "      <td>-8.618590e+07</td>\n",
       "      <td>1.000000</td>\n",
       "      <td>...</td>\n",
       "      <td>-9.900000e+01</td>\n",
       "      <td>-9.900000e+01</td>\n",
       "      <td>-9.900000e+01</td>\n",
       "      <td>-99.000000</td>\n",
       "      <td>1.000000</td>\n",
       "      <td>-99.000000</td>\n",
       "      <td>-9.000000</td>\n",
       "      <td>-9.000000</td>\n",
       "      <td>-9.000000</td>\n",
       "      <td>-9.000000</td>\n",
       "    </tr>\n",
       "    <tr>\n",
       "      <th>25%</th>\n",
       "      <td>1.991021e+11</td>\n",
       "      <td>1991.000000</td>\n",
       "      <td>4.000000</td>\n",
       "      <td>8.000000</td>\n",
       "      <td>0.000000</td>\n",
       "      <td>78.000000</td>\n",
       "      <td>5.000000</td>\n",
       "      <td>11.510046</td>\n",
       "      <td>4.545640e+00</td>\n",
       "      <td>1.000000</td>\n",
       "      <td>...</td>\n",
       "      <td>0.000000e+00</td>\n",
       "      <td>0.000000e+00</td>\n",
       "      <td>-9.900000e+01</td>\n",
       "      <td>0.000000</td>\n",
       "      <td>2.000000</td>\n",
       "      <td>-99.000000</td>\n",
       "      <td>-9.000000</td>\n",
       "      <td>-9.000000</td>\n",
       "      <td>0.000000</td>\n",
       "      <td>-9.000000</td>\n",
       "    </tr>\n",
       "    <tr>\n",
       "      <th>50%</th>\n",
       "      <td>2.009022e+11</td>\n",
       "      <td>2009.000000</td>\n",
       "      <td>6.000000</td>\n",
       "      <td>15.000000</td>\n",
       "      <td>0.000000</td>\n",
       "      <td>98.000000</td>\n",
       "      <td>6.000000</td>\n",
       "      <td>31.467463</td>\n",
       "      <td>4.324651e+01</td>\n",
       "      <td>1.000000</td>\n",
       "      <td>...</td>\n",
       "      <td>1.500000e+04</td>\n",
       "      <td>0.000000e+00</td>\n",
       "      <td>0.000000e+00</td>\n",
       "      <td>0.000000</td>\n",
       "      <td>4.000000</td>\n",
       "      <td>0.000000</td>\n",
       "      <td>-9.000000</td>\n",
       "      <td>-9.000000</td>\n",
       "      <td>0.000000</td>\n",
       "      <td>0.000000</td>\n",
       "    </tr>\n",
       "    <tr>\n",
       "      <th>75%</th>\n",
       "      <td>2.014081e+11</td>\n",
       "      <td>2014.000000</td>\n",
       "      <td>9.000000</td>\n",
       "      <td>23.000000</td>\n",
       "      <td>0.000000</td>\n",
       "      <td>160.000000</td>\n",
       "      <td>10.000000</td>\n",
       "      <td>34.685087</td>\n",
       "      <td>6.871033e+01</td>\n",
       "      <td>1.000000</td>\n",
       "      <td>...</td>\n",
       "      <td>4.000000e+05</td>\n",
       "      <td>0.000000e+00</td>\n",
       "      <td>1.273412e+03</td>\n",
       "      <td>0.000000</td>\n",
       "      <td>7.000000</td>\n",
       "      <td>1.000000</td>\n",
       "      <td>0.000000</td>\n",
       "      <td>0.000000</td>\n",
       "      <td>0.000000</td>\n",
       "      <td>0.000000</td>\n",
       "    </tr>\n",
       "    <tr>\n",
       "      <th>max</th>\n",
       "      <td>2.017123e+11</td>\n",
       "      <td>2017.000000</td>\n",
       "      <td>12.000000</td>\n",
       "      <td>31.000000</td>\n",
       "      <td>1.000000</td>\n",
       "      <td>1004.000000</td>\n",
       "      <td>12.000000</td>\n",
       "      <td>74.633553</td>\n",
       "      <td>1.793667e+02</td>\n",
       "      <td>5.000000</td>\n",
       "      <td>...</td>\n",
       "      <td>1.000000e+09</td>\n",
       "      <td>1.320000e+08</td>\n",
       "      <td>2.750000e+08</td>\n",
       "      <td>48000.000000</td>\n",
       "      <td>7.000000</td>\n",
       "      <td>2769.000000</td>\n",
       "      <td>1.000000</td>\n",
       "      <td>1.000000</td>\n",
       "      <td>1.000000</td>\n",
       "      <td>1.000000</td>\n",
       "    </tr>\n",
       "  </tbody>\n",
       "</table>\n",
       "<p>8 rows × 77 columns</p>\n",
       "</div>"
      ],
      "text/plain": [
       "            eventid          iyear         imonth           iday  \\\n",
       "count  1.816910e+05  181691.000000  181691.000000  181691.000000   \n",
       "mean   2.002705e+11    2002.638997       6.467277      15.505644   \n",
       "std    1.325957e+09      13.259430       3.388303       8.814045   \n",
       "min    1.970000e+11    1970.000000       0.000000       0.000000   \n",
       "25%    1.991021e+11    1991.000000       4.000000       8.000000   \n",
       "50%    2.009022e+11    2009.000000       6.000000      15.000000   \n",
       "75%    2.014081e+11    2014.000000       9.000000      23.000000   \n",
       "max    2.017123e+11    2017.000000      12.000000      31.000000   \n",
       "\n",
       "            extended        country         region       latitude  \\\n",
       "count  181691.000000  181691.000000  181691.000000  177135.000000   \n",
       "mean        0.045346     131.968501       7.160938      23.498343   \n",
       "std         0.208063     112.414535       2.933408      18.569242   \n",
       "min         0.000000       4.000000       1.000000     -53.154613   \n",
       "25%         0.000000      78.000000       5.000000      11.510046   \n",
       "50%         0.000000      98.000000       6.000000      31.467463   \n",
       "75%         0.000000     160.000000      10.000000      34.685087   \n",
       "max         1.000000    1004.000000      12.000000      74.633553   \n",
       "\n",
       "          longitude    specificity  ...     ransomamt   ransomamtus  \\\n",
       "count  1.771340e+05  181685.000000  ...  1.350000e+03  5.630000e+02   \n",
       "mean  -4.586957e+02       1.451452  ...  3.172530e+06  5.784865e+05   \n",
       "std    2.047790e+05       0.995430  ...  3.021157e+07  7.077924e+06   \n",
       "min   -8.618590e+07       1.000000  ... -9.900000e+01 -9.900000e+01   \n",
       "25%    4.545640e+00       1.000000  ...  0.000000e+00  0.000000e+00   \n",
       "50%    4.324651e+01       1.000000  ...  1.500000e+04  0.000000e+00   \n",
       "75%    6.871033e+01       1.000000  ...  4.000000e+05  0.000000e+00   \n",
       "max    1.793667e+02       5.000000  ...  1.000000e+09  1.320000e+08   \n",
       "\n",
       "         ransompaid  ransompaidus  hostkidoutcome     nreleased  \\\n",
       "count  7.740000e+02    552.000000    10991.000000  10400.000000   \n",
       "mean   7.179437e+05    240.378623        4.629242    -29.018269   \n",
       "std    1.014392e+07   2940.967293        2.035360     65.720119   \n",
       "min   -9.900000e+01    -99.000000        1.000000    -99.000000   \n",
       "25%   -9.900000e+01      0.000000        2.000000    -99.000000   \n",
       "50%    0.000000e+00      0.000000        4.000000      0.000000   \n",
       "75%    1.273412e+03      0.000000        7.000000      1.000000   \n",
       "max    2.750000e+08  48000.000000        7.000000   2769.000000   \n",
       "\n",
       "             INT_LOG       INT_IDEO       INT_MISC        INT_ANY  \n",
       "count  181691.000000  181691.000000  181691.000000  181691.000000  \n",
       "mean       -4.543731      -4.464398       0.090010      -3.945952  \n",
       "std         4.543547       4.637152       0.568457       4.691325  \n",
       "min        -9.000000      -9.000000      -9.000000      -9.000000  \n",
       "25%        -9.000000      -9.000000       0.000000      -9.000000  \n",
       "50%        -9.000000      -9.000000       0.000000       0.000000  \n",
       "75%         0.000000       0.000000       0.000000       0.000000  \n",
       "max         1.000000       1.000000       1.000000       1.000000  \n",
       "\n",
       "[8 rows x 77 columns]"
      ]
     },
     "execution_count": 4,
     "metadata": {},
     "output_type": "execute_result"
    }
   ],
   "source": [
    "t.describe()"
   ]
  },
  {
   "cell_type": "code",
   "execution_count": 5,
   "metadata": {},
   "outputs": [],
   "source": [
    "t.rename(columns={'iyear':'Year','imonth':'Month','iday':'Day','country_txt':'Country','provstate':'state',\n",
    "                       'region_txt':'Region','attacktype1_txt':'AttackType','target1':'Target','nkill':'Killed',\n",
    "                       'nwound':'Wounded','summary':'Summary','gname':'Group','targtype1_txt':'Target_type',\n",
    "                       'weaptype1_txt':'Weapon_type','motive':'Motive'},inplace=True)"
   ]
  },
  {
   "cell_type": "code",
   "execution_count": 6,
   "metadata": {},
   "outputs": [
    {
     "data": {
      "text/html": [
       "<div>\n",
       "<style scoped>\n",
       "    .dataframe tbody tr th:only-of-type {\n",
       "        vertical-align: middle;\n",
       "    }\n",
       "\n",
       "    .dataframe tbody tr th {\n",
       "        vertical-align: top;\n",
       "    }\n",
       "\n",
       "    .dataframe thead th {\n",
       "        text-align: right;\n",
       "    }\n",
       "</style>\n",
       "<table border=\"1\" class=\"dataframe\">\n",
       "  <thead>\n",
       "    <tr style=\"text-align: right;\">\n",
       "      <th></th>\n",
       "      <th>eventid</th>\n",
       "      <th>Year</th>\n",
       "      <th>Month</th>\n",
       "      <th>Day</th>\n",
       "      <th>approxdate</th>\n",
       "      <th>extended</th>\n",
       "      <th>resolution</th>\n",
       "      <th>country</th>\n",
       "      <th>Country</th>\n",
       "      <th>region</th>\n",
       "      <th>...</th>\n",
       "      <th>addnotes</th>\n",
       "      <th>scite1</th>\n",
       "      <th>scite2</th>\n",
       "      <th>scite3</th>\n",
       "      <th>dbsource</th>\n",
       "      <th>INT_LOG</th>\n",
       "      <th>INT_IDEO</th>\n",
       "      <th>INT_MISC</th>\n",
       "      <th>INT_ANY</th>\n",
       "      <th>related</th>\n",
       "    </tr>\n",
       "  </thead>\n",
       "  <tbody>\n",
       "    <tr>\n",
       "      <th>0</th>\n",
       "      <td>197000000001</td>\n",
       "      <td>1970</td>\n",
       "      <td>7</td>\n",
       "      <td>2</td>\n",
       "      <td>NaN</td>\n",
       "      <td>0</td>\n",
       "      <td>NaN</td>\n",
       "      <td>58</td>\n",
       "      <td>Dominican Republic</td>\n",
       "      <td>2</td>\n",
       "      <td>...</td>\n",
       "      <td>NaN</td>\n",
       "      <td>NaN</td>\n",
       "      <td>NaN</td>\n",
       "      <td>NaN</td>\n",
       "      <td>PGIS</td>\n",
       "      <td>0</td>\n",
       "      <td>0</td>\n",
       "      <td>0</td>\n",
       "      <td>0</td>\n",
       "      <td>NaN</td>\n",
       "    </tr>\n",
       "    <tr>\n",
       "      <th>1</th>\n",
       "      <td>197000000002</td>\n",
       "      <td>1970</td>\n",
       "      <td>0</td>\n",
       "      <td>0</td>\n",
       "      <td>NaN</td>\n",
       "      <td>0</td>\n",
       "      <td>NaN</td>\n",
       "      <td>130</td>\n",
       "      <td>Mexico</td>\n",
       "      <td>1</td>\n",
       "      <td>...</td>\n",
       "      <td>NaN</td>\n",
       "      <td>NaN</td>\n",
       "      <td>NaN</td>\n",
       "      <td>NaN</td>\n",
       "      <td>PGIS</td>\n",
       "      <td>0</td>\n",
       "      <td>1</td>\n",
       "      <td>1</td>\n",
       "      <td>1</td>\n",
       "      <td>NaN</td>\n",
       "    </tr>\n",
       "    <tr>\n",
       "      <th>2</th>\n",
       "      <td>197001000001</td>\n",
       "      <td>1970</td>\n",
       "      <td>1</td>\n",
       "      <td>0</td>\n",
       "      <td>NaN</td>\n",
       "      <td>0</td>\n",
       "      <td>NaN</td>\n",
       "      <td>160</td>\n",
       "      <td>Philippines</td>\n",
       "      <td>5</td>\n",
       "      <td>...</td>\n",
       "      <td>NaN</td>\n",
       "      <td>NaN</td>\n",
       "      <td>NaN</td>\n",
       "      <td>NaN</td>\n",
       "      <td>PGIS</td>\n",
       "      <td>-9</td>\n",
       "      <td>-9</td>\n",
       "      <td>1</td>\n",
       "      <td>1</td>\n",
       "      <td>NaN</td>\n",
       "    </tr>\n",
       "    <tr>\n",
       "      <th>3</th>\n",
       "      <td>197001000002</td>\n",
       "      <td>1970</td>\n",
       "      <td>1</td>\n",
       "      <td>0</td>\n",
       "      <td>NaN</td>\n",
       "      <td>0</td>\n",
       "      <td>NaN</td>\n",
       "      <td>78</td>\n",
       "      <td>Greece</td>\n",
       "      <td>8</td>\n",
       "      <td>...</td>\n",
       "      <td>NaN</td>\n",
       "      <td>NaN</td>\n",
       "      <td>NaN</td>\n",
       "      <td>NaN</td>\n",
       "      <td>PGIS</td>\n",
       "      <td>-9</td>\n",
       "      <td>-9</td>\n",
       "      <td>1</td>\n",
       "      <td>1</td>\n",
       "      <td>NaN</td>\n",
       "    </tr>\n",
       "    <tr>\n",
       "      <th>4</th>\n",
       "      <td>197001000003</td>\n",
       "      <td>1970</td>\n",
       "      <td>1</td>\n",
       "      <td>0</td>\n",
       "      <td>NaN</td>\n",
       "      <td>0</td>\n",
       "      <td>NaN</td>\n",
       "      <td>101</td>\n",
       "      <td>Japan</td>\n",
       "      <td>4</td>\n",
       "      <td>...</td>\n",
       "      <td>NaN</td>\n",
       "      <td>NaN</td>\n",
       "      <td>NaN</td>\n",
       "      <td>NaN</td>\n",
       "      <td>PGIS</td>\n",
       "      <td>-9</td>\n",
       "      <td>-9</td>\n",
       "      <td>1</td>\n",
       "      <td>1</td>\n",
       "      <td>NaN</td>\n",
       "    </tr>\n",
       "  </tbody>\n",
       "</table>\n",
       "<p>5 rows × 135 columns</p>\n",
       "</div>"
      ],
      "text/plain": [
       "        eventid  Year  Month  Day approxdate  extended resolution  country  \\\n",
       "0  197000000001  1970      7    2        NaN         0        NaN       58   \n",
       "1  197000000002  1970      0    0        NaN         0        NaN      130   \n",
       "2  197001000001  1970      1    0        NaN         0        NaN      160   \n",
       "3  197001000002  1970      1    0        NaN         0        NaN       78   \n",
       "4  197001000003  1970      1    0        NaN         0        NaN      101   \n",
       "\n",
       "              Country  region  ... addnotes scite1 scite2  scite3  dbsource  \\\n",
       "0  Dominican Republic       2  ...      NaN    NaN    NaN     NaN      PGIS   \n",
       "1              Mexico       1  ...      NaN    NaN    NaN     NaN      PGIS   \n",
       "2         Philippines       5  ...      NaN    NaN    NaN     NaN      PGIS   \n",
       "3              Greece       8  ...      NaN    NaN    NaN     NaN      PGIS   \n",
       "4               Japan       4  ...      NaN    NaN    NaN     NaN      PGIS   \n",
       "\n",
       "   INT_LOG  INT_IDEO INT_MISC INT_ANY  related  \n",
       "0        0         0        0       0      NaN  \n",
       "1        0         1        1       1      NaN  \n",
       "2       -9        -9        1       1      NaN  \n",
       "3       -9        -9        1       1      NaN  \n",
       "4       -9        -9        1       1      NaN  \n",
       "\n",
       "[5 rows x 135 columns]"
      ]
     },
     "execution_count": 6,
     "metadata": {},
     "output_type": "execute_result"
    }
   ],
   "source": [
    "t.head()"
   ]
  },
  {
   "cell_type": "markdown",
   "metadata": {},
   "source": [
    "1-We can see that we have around 135 coulumns.\n",
    "\n",
    "2-We aim at finding the hot zones so we can drop outher columns.\n",
    "\n",
    "3-dropping other columns will be a tedious task, so it is better to create a new variable wherein we will take only important coumns."
   ]
  },
  {
   "cell_type": "code",
   "execution_count": 7,
   "metadata": {},
   "outputs": [
    {
     "data": {
      "text/html": [
       "<div>\n",
       "<style scoped>\n",
       "    .dataframe tbody tr th:only-of-type {\n",
       "        vertical-align: middle;\n",
       "    }\n",
       "\n",
       "    .dataframe tbody tr th {\n",
       "        vertical-align: top;\n",
       "    }\n",
       "\n",
       "    .dataframe thead th {\n",
       "        text-align: right;\n",
       "    }\n",
       "</style>\n",
       "<table border=\"1\" class=\"dataframe\">\n",
       "  <thead>\n",
       "    <tr style=\"text-align: right;\">\n",
       "      <th></th>\n",
       "      <th>Year</th>\n",
       "      <th>Month</th>\n",
       "      <th>Day</th>\n",
       "      <th>Country</th>\n",
       "      <th>state</th>\n",
       "      <th>Region</th>\n",
       "      <th>city</th>\n",
       "      <th>latitude</th>\n",
       "      <th>longitude</th>\n",
       "      <th>AttackType</th>\n",
       "      <th>Killed</th>\n",
       "      <th>Wounded</th>\n",
       "      <th>Target</th>\n",
       "      <th>Summary</th>\n",
       "      <th>Group</th>\n",
       "      <th>Target_type</th>\n",
       "      <th>Weapon_type</th>\n",
       "      <th>Motive</th>\n",
       "    </tr>\n",
       "  </thead>\n",
       "  <tbody>\n",
       "    <tr>\n",
       "      <th>0</th>\n",
       "      <td>1970</td>\n",
       "      <td>7</td>\n",
       "      <td>2</td>\n",
       "      <td>Dominican Republic</td>\n",
       "      <td>NaN</td>\n",
       "      <td>Central America &amp; Caribbean</td>\n",
       "      <td>Santo Domingo</td>\n",
       "      <td>18.456792</td>\n",
       "      <td>-69.951164</td>\n",
       "      <td>Assassination</td>\n",
       "      <td>1.0</td>\n",
       "      <td>0.0</td>\n",
       "      <td>Julio Guzman</td>\n",
       "      <td>NaN</td>\n",
       "      <td>MANO-D</td>\n",
       "      <td>Private Citizens &amp; Property</td>\n",
       "      <td>Unknown</td>\n",
       "      <td>NaN</td>\n",
       "    </tr>\n",
       "    <tr>\n",
       "      <th>1</th>\n",
       "      <td>1970</td>\n",
       "      <td>0</td>\n",
       "      <td>0</td>\n",
       "      <td>Mexico</td>\n",
       "      <td>Federal</td>\n",
       "      <td>North America</td>\n",
       "      <td>Mexico city</td>\n",
       "      <td>19.371887</td>\n",
       "      <td>-99.086624</td>\n",
       "      <td>Hostage Taking (Kidnapping)</td>\n",
       "      <td>0.0</td>\n",
       "      <td>0.0</td>\n",
       "      <td>Nadine Chaval, daughter</td>\n",
       "      <td>NaN</td>\n",
       "      <td>23rd of September Communist League</td>\n",
       "      <td>Government (Diplomatic)</td>\n",
       "      <td>Unknown</td>\n",
       "      <td>NaN</td>\n",
       "    </tr>\n",
       "    <tr>\n",
       "      <th>2</th>\n",
       "      <td>1970</td>\n",
       "      <td>1</td>\n",
       "      <td>0</td>\n",
       "      <td>Philippines</td>\n",
       "      <td>Tarlac</td>\n",
       "      <td>Southeast Asia</td>\n",
       "      <td>Unknown</td>\n",
       "      <td>15.478598</td>\n",
       "      <td>120.599741</td>\n",
       "      <td>Assassination</td>\n",
       "      <td>1.0</td>\n",
       "      <td>0.0</td>\n",
       "      <td>Employee</td>\n",
       "      <td>NaN</td>\n",
       "      <td>Unknown</td>\n",
       "      <td>Journalists &amp; Media</td>\n",
       "      <td>Unknown</td>\n",
       "      <td>NaN</td>\n",
       "    </tr>\n",
       "    <tr>\n",
       "      <th>3</th>\n",
       "      <td>1970</td>\n",
       "      <td>1</td>\n",
       "      <td>0</td>\n",
       "      <td>Greece</td>\n",
       "      <td>Attica</td>\n",
       "      <td>Western Europe</td>\n",
       "      <td>Athens</td>\n",
       "      <td>37.997490</td>\n",
       "      <td>23.762728</td>\n",
       "      <td>Bombing/Explosion</td>\n",
       "      <td>NaN</td>\n",
       "      <td>NaN</td>\n",
       "      <td>U.S. Embassy</td>\n",
       "      <td>NaN</td>\n",
       "      <td>Unknown</td>\n",
       "      <td>Government (Diplomatic)</td>\n",
       "      <td>Explosives</td>\n",
       "      <td>NaN</td>\n",
       "    </tr>\n",
       "    <tr>\n",
       "      <th>4</th>\n",
       "      <td>1970</td>\n",
       "      <td>1</td>\n",
       "      <td>0</td>\n",
       "      <td>Japan</td>\n",
       "      <td>Fukouka</td>\n",
       "      <td>East Asia</td>\n",
       "      <td>Fukouka</td>\n",
       "      <td>33.580412</td>\n",
       "      <td>130.396361</td>\n",
       "      <td>Facility/Infrastructure Attack</td>\n",
       "      <td>NaN</td>\n",
       "      <td>NaN</td>\n",
       "      <td>U.S. Consulate</td>\n",
       "      <td>NaN</td>\n",
       "      <td>Unknown</td>\n",
       "      <td>Government (Diplomatic)</td>\n",
       "      <td>Incendiary</td>\n",
       "      <td>NaN</td>\n",
       "    </tr>\n",
       "  </tbody>\n",
       "</table>\n",
       "</div>"
      ],
      "text/plain": [
       "   Year  Month  Day             Country    state                       Region  \\\n",
       "0  1970      7    2  Dominican Republic      NaN  Central America & Caribbean   \n",
       "1  1970      0    0              Mexico  Federal                North America   \n",
       "2  1970      1    0         Philippines   Tarlac               Southeast Asia   \n",
       "3  1970      1    0              Greece   Attica               Western Europe   \n",
       "4  1970      1    0               Japan  Fukouka                    East Asia   \n",
       "\n",
       "            city   latitude   longitude                      AttackType  \\\n",
       "0  Santo Domingo  18.456792  -69.951164                   Assassination   \n",
       "1    Mexico city  19.371887  -99.086624     Hostage Taking (Kidnapping)   \n",
       "2        Unknown  15.478598  120.599741                   Assassination   \n",
       "3         Athens  37.997490   23.762728               Bombing/Explosion   \n",
       "4        Fukouka  33.580412  130.396361  Facility/Infrastructure Attack   \n",
       "\n",
       "   Killed  Wounded                   Target Summary  \\\n",
       "0     1.0      0.0             Julio Guzman     NaN   \n",
       "1     0.0      0.0  Nadine Chaval, daughter     NaN   \n",
       "2     1.0      0.0                 Employee     NaN   \n",
       "3     NaN      NaN             U.S. Embassy     NaN   \n",
       "4     NaN      NaN           U.S. Consulate     NaN   \n",
       "\n",
       "                                Group                  Target_type  \\\n",
       "0                              MANO-D  Private Citizens & Property   \n",
       "1  23rd of September Communist League      Government (Diplomatic)   \n",
       "2                             Unknown          Journalists & Media   \n",
       "3                             Unknown      Government (Diplomatic)   \n",
       "4                             Unknown      Government (Diplomatic)   \n",
       "\n",
       "  Weapon_type Motive  \n",
       "0     Unknown    NaN  \n",
       "1     Unknown    NaN  \n",
       "2     Unknown    NaN  \n",
       "3  Explosives    NaN  \n",
       "4  Incendiary    NaN  "
      ]
     },
     "execution_count": 7,
     "metadata": {},
     "output_type": "execute_result"
    }
   ],
   "source": [
    "trr=t[['Year','Month','Day','Country','state','Region','city','latitude','longitude','AttackType','Killed',\n",
    "               'Wounded','Target','Summary','Group','Target_type','Weapon_type','Motive']]\n",
    "trr.head()"
   ]
  },
  {
   "cell_type": "code",
   "execution_count": 8,
   "metadata": {},
   "outputs": [
    {
     "data": {
      "text/plain": [
       "(181691, 18)"
      ]
     },
     "execution_count": 8,
     "metadata": {},
     "output_type": "execute_result"
    }
   ],
   "source": [
    "trr.shape"
   ]
  },
  {
   "cell_type": "code",
   "execution_count": 9,
   "metadata": {},
   "outputs": [
    {
     "data": {
      "text/plain": [
       "Year                0\n",
       "Month               0\n",
       "Day                 0\n",
       "Country             0\n",
       "state             421\n",
       "Region              0\n",
       "city              434\n",
       "latitude         4556\n",
       "longitude        4557\n",
       "AttackType          0\n",
       "Killed          10313\n",
       "Wounded         16311\n",
       "Target            636\n",
       "Summary         66129\n",
       "Group               0\n",
       "Target_type         0\n",
       "Weapon_type         0\n",
       "Motive         131130\n",
       "dtype: int64"
      ]
     },
     "execution_count": 9,
     "metadata": {},
     "output_type": "execute_result"
    }
   ],
   "source": [
    "trr.isnull().sum()"
   ]
  },
  {
   "cell_type": "markdown",
   "metadata": {},
   "source": [
    "1-We need to make sure if there is any value in day or month as 0.\n",
    "\n",
    "2-We have too many missing values in some columns, before handling them we need to know their percentage."
   ]
  },
  {
   "cell_type": "code",
   "execution_count": 10,
   "metadata": {},
   "outputs": [
    {
     "name": "stdout",
     "output_type": "stream",
     "text": [
      "Number of Days entered as 0:  891\n"
     ]
    }
   ],
   "source": [
    "count=0\n",
    "for i in trr['Day']:\n",
    "    if i ==0:\n",
    "        count=count+1\n",
    "    else:\n",
    "        count=count\n",
    "print('Number of Days entered as 0: ',count)"
   ]
  },
  {
   "cell_type": "code",
   "execution_count": 11,
   "metadata": {},
   "outputs": [
    {
     "name": "stdout",
     "output_type": "stream",
     "text": [
      "Number of Months entered as 0:  20\n"
     ]
    }
   ],
   "source": [
    "cnt=0\n",
    "for i in trr['Month']:\n",
    "    if i ==0:\n",
    "        cnt=cnt+1\n",
    "    else:\n",
    "        cnt=cnt\n",
    "print('Number of Months entered as 0: ',cnt)"
   ]
  },
  {
   "cell_type": "markdown",
   "metadata": {},
   "source": [
    "# We are assigning random dates and months who have their values as 0, so that we don't loose the information of other columns associated with that row."
   ]
  },
  {
   "cell_type": "code",
   "execution_count": 12,
   "metadata": {},
   "outputs": [
    {
     "name": "stderr",
     "output_type": "stream",
     "text": [
      "<ipython-input-12-eebef340eee1>:1: SettingWithCopyWarning: \n",
      "A value is trying to be set on a copy of a slice from a DataFrame.\n",
      "Try using .loc[row_indexer,col_indexer] = value instead\n",
      "\n",
      "See the caveats in the documentation: https://pandas.pydata.org/pandas-docs/stable/user_guide/indexing.html#returning-a-view-versus-a-copy\n",
      "  trr['Day'] = trr['Day'].apply(lambda x: np.random.randint(1,32) if x == 0 else x)\n",
      "<ipython-input-12-eebef340eee1>:2: SettingWithCopyWarning: \n",
      "A value is trying to be set on a copy of a slice from a DataFrame.\n",
      "Try using .loc[row_indexer,col_indexer] = value instead\n",
      "\n",
      "See the caveats in the documentation: https://pandas.pydata.org/pandas-docs/stable/user_guide/indexing.html#returning-a-view-versus-a-copy\n",
      "  trr['Month'] = trr['Month'].apply(lambda x: np.random.randint(1,13) if x == 0 else x)\n"
     ]
    }
   ],
   "source": [
    "trr['Day'] = trr['Day'].apply(lambda x: np.random.randint(1,32) if x == 0 else x)\n",
    "trr['Month'] = trr['Month'].apply(lambda x: np.random.randint(1,13) if x == 0 else x)"
   ]
  },
  {
   "cell_type": "code",
   "execution_count": 13,
   "metadata": {},
   "outputs": [
    {
     "name": "stdout",
     "output_type": "stream",
     "text": [
      "Number of Days entered as 0:  0\n"
     ]
    }
   ],
   "source": [
    "#checking for days\n",
    "count=0\n",
    "for i in trr['Day']:\n",
    "    if i ==0:\n",
    "        count=count+1\n",
    "    else:\n",
    "        count=count\n",
    "print('Number of Days entered as 0: ',count)"
   ]
  },
  {
   "cell_type": "code",
   "execution_count": 14,
   "metadata": {},
   "outputs": [
    {
     "name": "stdout",
     "output_type": "stream",
     "text": [
      "Number of Months entered as 0:  0\n"
     ]
    }
   ],
   "source": [
    "#checking for months\n",
    "cnt=0\n",
    "for i in trr['Month']:\n",
    "    if i ==0:\n",
    "        cnt=cnt+1\n",
    "    else:\n",
    "        cnt=cnt\n",
    "print('Number of Months entered as 0: ',cnt)"
   ]
  },
  {
   "cell_type": "markdown",
   "metadata": {},
   "source": [
    "\n",
    "***Finding missing value percentage***"
   ]
  },
  {
   "cell_type": "code",
   "execution_count": 15,
   "metadata": {},
   "outputs": [
    {
     "data": {
      "text/html": [
       "<div>\n",
       "<style scoped>\n",
       "    .dataframe tbody tr th:only-of-type {\n",
       "        vertical-align: middle;\n",
       "    }\n",
       "\n",
       "    .dataframe tbody tr th {\n",
       "        vertical-align: top;\n",
       "    }\n",
       "\n",
       "    .dataframe thead th {\n",
       "        text-align: right;\n",
       "    }\n",
       "</style>\n",
       "<table border=\"1\" class=\"dataframe\">\n",
       "  <thead>\n",
       "    <tr style=\"text-align: right;\">\n",
       "      <th></th>\n",
       "      <th>Null Values</th>\n",
       "      <th>Percentage</th>\n",
       "    </tr>\n",
       "  </thead>\n",
       "  <tbody>\n",
       "    <tr>\n",
       "      <th>Year</th>\n",
       "      <td>0</td>\n",
       "      <td>0.000000</td>\n",
       "    </tr>\n",
       "    <tr>\n",
       "      <th>Month</th>\n",
       "      <td>0</td>\n",
       "      <td>0.000000</td>\n",
       "    </tr>\n",
       "    <tr>\n",
       "      <th>Day</th>\n",
       "      <td>0</td>\n",
       "      <td>0.000000</td>\n",
       "    </tr>\n",
       "    <tr>\n",
       "      <th>Country</th>\n",
       "      <td>0</td>\n",
       "      <td>0.000000</td>\n",
       "    </tr>\n",
       "    <tr>\n",
       "      <th>state</th>\n",
       "      <td>421</td>\n",
       "      <td>0.231712</td>\n",
       "    </tr>\n",
       "    <tr>\n",
       "      <th>Region</th>\n",
       "      <td>0</td>\n",
       "      <td>0.000000</td>\n",
       "    </tr>\n",
       "    <tr>\n",
       "      <th>city</th>\n",
       "      <td>434</td>\n",
       "      <td>0.238867</td>\n",
       "    </tr>\n",
       "    <tr>\n",
       "      <th>latitude</th>\n",
       "      <td>4556</td>\n",
       "      <td>2.507554</td>\n",
       "    </tr>\n",
       "    <tr>\n",
       "      <th>longitude</th>\n",
       "      <td>4557</td>\n",
       "      <td>2.508104</td>\n",
       "    </tr>\n",
       "    <tr>\n",
       "      <th>AttackType</th>\n",
       "      <td>0</td>\n",
       "      <td>0.000000</td>\n",
       "    </tr>\n",
       "    <tr>\n",
       "      <th>Killed</th>\n",
       "      <td>10313</td>\n",
       "      <td>5.676120</td>\n",
       "    </tr>\n",
       "    <tr>\n",
       "      <th>Wounded</th>\n",
       "      <td>16311</td>\n",
       "      <td>8.977330</td>\n",
       "    </tr>\n",
       "    <tr>\n",
       "      <th>Target</th>\n",
       "      <td>636</td>\n",
       "      <td>0.350045</td>\n",
       "    </tr>\n",
       "    <tr>\n",
       "      <th>Summary</th>\n",
       "      <td>66129</td>\n",
       "      <td>36.396409</td>\n",
       "    </tr>\n",
       "    <tr>\n",
       "      <th>Group</th>\n",
       "      <td>0</td>\n",
       "      <td>0.000000</td>\n",
       "    </tr>\n",
       "    <tr>\n",
       "      <th>Target_type</th>\n",
       "      <td>0</td>\n",
       "      <td>0.000000</td>\n",
       "    </tr>\n",
       "    <tr>\n",
       "      <th>Weapon_type</th>\n",
       "      <td>0</td>\n",
       "      <td>0.000000</td>\n",
       "    </tr>\n",
       "    <tr>\n",
       "      <th>Motive</th>\n",
       "      <td>131130</td>\n",
       "      <td>72.171984</td>\n",
       "    </tr>\n",
       "  </tbody>\n",
       "</table>\n",
       "</div>"
      ],
      "text/plain": [
       "             Null Values  Percentage \n",
       "Year                   0     0.000000\n",
       "Month                  0     0.000000\n",
       "Day                    0     0.000000\n",
       "Country                0     0.000000\n",
       "state                421     0.231712\n",
       "Region                 0     0.000000\n",
       "city                 434     0.238867\n",
       "latitude            4556     2.507554\n",
       "longitude           4557     2.508104\n",
       "AttackType             0     0.000000\n",
       "Killed             10313     5.676120\n",
       "Wounded            16311     8.977330\n",
       "Target               636     0.350045\n",
       "Summary            66129    36.396409\n",
       "Group                  0     0.000000\n",
       "Target_type            0     0.000000\n",
       "Weapon_type            0     0.000000\n",
       "Motive            131130    72.171984"
      ]
     },
     "execution_count": 15,
     "metadata": {},
     "output_type": "execute_result"
    }
   ],
   "source": [
    "def null_val_(trr): \n",
    "    null_val = trr.isnull().sum()\n",
    "    null_val_p = 100 * trr.isnull().sum()/len(trr)\n",
    "    null_val_ = pd.concat([null_val, null_val_p], axis=1)\n",
    "    null_val_last = null_val_.rename(\n",
    "    columns = {0 : 'Null Values', 1 : 'Percentage '})\n",
    "    return null_val_last\n",
    "null_val_(trr)"
   ]
  },
  {
   "cell_type": "code",
   "execution_count": 16,
   "metadata": {},
   "outputs": [
    {
     "name": "stderr",
     "output_type": "stream",
     "text": [
      "C:\\Users\\Ajju\\anaconda3\\lib\\site-packages\\pandas\\core\\generic.py:6245: SettingWithCopyWarning: \n",
      "A value is trying to be set on a copy of a slice from a DataFrame\n",
      "\n",
      "See the caveats in the documentation: https://pandas.pydata.org/pandas-docs/stable/user_guide/indexing.html#returning-a-view-versus-a-copy\n",
      "  self._update_inplace(new_data)\n"
     ]
    }
   ],
   "source": [
    "trr['Motive'].fillna(value='NA', inplace=True) \n",
    "trr['Summary'].fillna(value='NA', inplace=True)\n",
    "trr['city'].fillna(value='NA', inplace=True)\n",
    "trr['Target'].fillna(value='NA', inplace=True)\n",
    "trr[\"Killed\"].fillna(trr[\"Killed\"].mean(), inplace=True)\n",
    "trr[\"Wounded\"].fillna(trr[\"Wounded\"].mean(), inplace=True)\n",
    "trr[\"latitude\"].fillna(trr[\"latitude\"].mean(), inplace=True)\n",
    "trr[\"longitude\"].fillna(trr[\"longitude\"].mean(), inplace=True)\n",
    "trr['state'].fillna(value='NA', inplace=True)"
   ]
  },
  {
   "cell_type": "markdown",
   "metadata": {},
   "source": [
    "1-We saw that some Coloumns had High missing values, we needed to handle them.\n",
    "\n",
    "2-All the coloumns with 'object' datatype have been replace by NA for the missing values so that we don't loose information associated with them.\n",
    "\n",
    "3-Similarly we have replaced all columns with float datatype with their respective mean."
   ]
  },
  {
   "cell_type": "code",
   "execution_count": 17,
   "metadata": {},
   "outputs": [
    {
     "data": {
      "text/plain": [
       "Year           0\n",
       "Month          0\n",
       "Day            0\n",
       "Country        0\n",
       "state          0\n",
       "Region         0\n",
       "city           0\n",
       "latitude       0\n",
       "longitude      0\n",
       "AttackType     0\n",
       "Killed         0\n",
       "Wounded        0\n",
       "Target         0\n",
       "Summary        0\n",
       "Group          0\n",
       "Target_type    0\n",
       "Weapon_type    0\n",
       "Motive         0\n",
       "dtype: int64"
      ]
     },
     "execution_count": 17,
     "metadata": {},
     "output_type": "execute_result"
    }
   ],
   "source": [
    "trr.isnull().sum()"
   ]
  },
  {
   "cell_type": "code",
   "execution_count": 18,
   "metadata": {},
   "outputs": [
    {
     "data": {
      "image/png": "[encoded data removed]",
      "text/plain": [
       "<Figure size 720x2880 with 4 Axes>"
      ]
     },
     "metadata": {
      "needs_background": "light"
     },
     "output_type": "display_data"
    }
   ],
   "source": [
    "title_style = {'family': 'Times New Roman', 'color': 'Tomato', 'size': 20 }\n",
    "dict = {'AttackType':1,'Target_type':2,  'Region':3, 'Weapon_type':4 }\n",
    "plt.figure(figsize=(10,40))\n",
    "\n",
    "for value, i in dict.items():\n",
    "    plt.subplot(4,1,i)\n",
    "    sns.boxplot(x=\"Year\", y=value, data=trr, whis=[0, 100], palette=\"magma\")\n",
    "    plt.title(value , fontdict = title_style)\n",
    "plt.show()"
   ]
  },
  {
   "cell_type": "code",
   "execution_count": 19,
   "metadata": {},
   "outputs": [
    {
     "data": {
      "text/plain": [
       "<matplotlib.axes._subplots.AxesSubplot at 0x227d23c1280>"
      ]
     },
     "execution_count": 19,
     "metadata": {},
     "output_type": "execute_result"
    },
    {
     "data": {
      "image/png": "[encoded data removed]",
      "text/plain": [
       "<Figure size 720x504 with 2 Axes>"
      ]
     },
     "metadata": {
      "needs_background": "light"
     },
     "output_type": "display_data"
    }
   ],
   "source": [
    "plt.figure(figsize = (10,7))\n",
    "sns.heatmap(trr.corr(), cmap=\"YlGnBu\", annot=True, xticklabels='auto', yticklabels='auto', linewidth=1 )"
   ]
  },
  {
   "cell_type": "markdown",
   "metadata": {},
   "source": [
    "# Terrorist Activities each year"
   ]
  },
  {
   "cell_type": "code",
   "execution_count": 20,
   "metadata": {},
   "outputs": [
    {
     "data": {
      "image/png": "[encoded data removed]",
      "text/plain": [
       "<Figure size 1080x432 with 1 Axes>"
      ]
     },
     "metadata": {
      "needs_background": "light"
     },
     "output_type": "display_data"
    }
   ],
   "source": [
    "plt.subplots(figsize=(15,6))\n",
    "sns.countplot('Year',data=trr,palette=\"viridis\")\n",
    "plt.xticks(rotation=45)\n",
    "plt.title('Number Of Terrorist Activities Each Year')\n",
    "plt.show()"
   ]
  },
  {
   "cell_type": "markdown",
   "metadata": {},
   "source": [
    "1-There has been a gradual increase in Terror Activities since 2004.\n",
    "\n",
    "2-Highest number of terror activities occurred in the year 2014.\n",
    "\n",
    "3-After 2014 the terror activities started to decrease."
   ]
  },
  {
   "cell_type": "markdown",
   "metadata": {},
   "source": [
    "# Terrorist Activities in each Year w.r.t region"
   ]
  },
  {
   "cell_type": "code",
   "execution_count": 21,
   "metadata": {},
   "outputs": [
    {
     "data": {
      "image/png": "[encoded data removed]",
      "text/plain": [
       "<Figure size 1080x432 with 1 Axes>"
      ]
     },
     "metadata": {
      "needs_background": "light"
     },
     "output_type": "display_data"
    }
   ],
   "source": [
    "pd.crosstab(trr.Year, trr.Region).plot(kind='area',figsize=(15,6))\n",
    "plt.ylabel('Number of Attacks')\n",
    "plt.show()"
   ]
  },
  {
   "cell_type": "markdown",
   "metadata": {},
   "source": [
    "1-Maximum Attacks have been in Central America, followed by Australasia in the year 2010.\n",
    "\n",
    "2-There have been very less terror casualties in: East Asia, North America.\n",
    "    \n",
    "3-In East Asia the number of attack gradually reduced to 0 after the year 1990."
   ]
  },
  {
   "cell_type": "code",
   "execution_count": 22,
   "metadata": {},
   "outputs": [
    {
     "data": {
      "text/html": [
       "        <script type=\"text/javascript\">\n",
       "        window.PlotlyConfig = {MathJaxConfig: 'local'};\n",
       "        if (window.MathJax) {MathJax.Hub.Config({SVG: {font: \"STIX-Web\"}});}\n",
       "        if (typeof require !== 'undefined') {\n",
       "        require.undef(\"plotly\");\n",
       "        requirejs.config({\n",
       "            paths: {\n",
       "                'plotly': ['https://cdn.plot.ly/plotly-2.4.2.min']\n",
       "            }\n",
       "        });\n",
       "        require(['plotly'], function(Plotly) {\n",
       "            window._Plotly = Plotly;\n",
       "        });\n",
       "        }\n",
       "        </script>\n",
       "        "
      ]
     },
     "metadata": {},
     "output_type": "display_data"
    },
    {
     "name": "stderr",
     "output_type": "stream",
     "text": [
      "<ipython-input-22-394077ea2f8f>:4: SettingWithCopyWarning:\n",
      "\n",
      "\n",
      "A value is trying to be set on a copy of a slice from a DataFrame.\n",
      "Try using .loc[row_indexer,col_indexer] = value instead\n",
      "\n",
      "See the caveats in the documentation: https://pandas.pydata.org/pandas-docs/stable/user_guide/indexing.html#returning-a-view-versus-a-copy\n",
      "\n"
     ]
    },
    {
     "data": {
      "application/vnd.plotly.v1+json": {
       "config": {
        "linkText": "Export to plot.ly",
        "plotlyServerURL": "https://plot.ly",
        "showLink": false
       },
       "data": [
        {
         "colorscale": [
          [
           0,
           "#edf8fb"
          ],
          [
           0.3,
           "#00BFFF"
          ],
          [
           0.6,
           "#8856a7"
          ],
          [
           1,
           "#810f7c"
          ]
         ],
         "type": "heatmap",
         "x": [
          1982,
          1984,
          1987,
          1992,
          1994,
          1995,
          1996,
          1997,
          1998,
          2001,
          2004,
          2005,
          2006,
          2007,
          2008,
          2009,
          2013,
          2014,
          2015,
          2016,
          2017
         ],
         "y": [
          "Afghanistan",
          "Algeria",
          "Chad",
          "Egypt",
          "Ethiopia",
          "France",
          "India",
          "Iran",
          "Iraq",
          "Japan",
          "Kenya",
          "Libya",
          "Mozambique",
          "Nepal",
          "Pakistan",
          "Russia",
          "Rwanda",
          "Somalia",
          "South Sudan",
          "Spain",
          "Sri Lanka",
          "Syria",
          "Tajikistan",
          "United States"
         ],
         "z": [
          [
           0,
           0,
           0,
           0,
           0,
           0,
           0,
           0,
           0,
           0,
           0,
           0,
           0,
           0,
           0,
           0,
           0,
           0,
           536,
           0,
           584
          ],
          [
           0,
           0,
           0,
           0,
           0,
           0,
           0,
           450,
           0,
           0,
           0,
           0,
           0,
           0,
           0,
           0,
           0,
           0,
           0,
           0,
           0
          ],
          [
           0,
           0,
           0,
           0,
           0,
           0,
           0,
           0,
           0,
           0,
           0,
           0,
           0,
           0,
           1161,
           0,
           0,
           0,
           0,
           0,
           0
          ],
          [
           0,
           0,
           0,
           0,
           0,
           0,
           0,
           0,
           0,
           0,
           0,
           0,
           0,
           0,
           0,
           0,
           0,
           0,
           0,
           0,
           438
          ],
          [
           0,
           0,
           0,
           500,
           0,
           0,
           0,
           0,
           0,
           0,
           0,
           0,
           0,
           0,
           0,
           0,
           0,
           0,
           0,
           0,
           0
          ],
          [
           0,
           0,
           0,
           0,
           0,
           0,
           0,
           0,
           0,
           0,
           0,
           0,
           0,
           0,
           0,
           0,
           0,
           0,
           0,
           520,
           0
          ],
          [
           0,
           0,
           0,
           0,
           0,
           0,
           0,
           0,
           0,
           0,
           0,
           0,
           1005,
           0,
           0,
           0,
           0,
           0,
           0,
           0,
           0
          ],
          [
           760,
           0,
           0,
           0,
           0,
           0,
           0,
           0,
           0,
           0,
           0,
           0,
           0,
           0,
           0,
           0,
           0,
           0,
           0,
           0,
           0
          ],
          [
           0,
           0,
           0,
           0,
           0,
           0,
           0,
           0,
           0,
           0,
           0,
           702,
           462,
           833.3333333333334,
           0,
           509,
           0,
           1066.445112266699,
           0,
           911.6666666666666,
           0
          ],
          [
           0,
           0,
           0,
           0,
           507,
           3092,
           0,
           0,
           0,
           0,
           0,
           0,
           0,
           0,
           0,
           0,
           0,
           0,
           0,
           0,
           0
          ],
          [
           0,
           0,
           0,
           0,
           0,
           0,
           0,
           0,
           4224,
           0,
           0,
           0,
           0,
           0,
           0,
           0,
           0,
           0,
           0,
           0,
           0
          ],
          [
           0,
           0,
           0,
           0,
           0,
           0,
           0,
           0,
           0,
           0,
           0,
           0,
           0,
           0,
           0,
           0,
           442,
           0,
           0,
           0,
           0
          ],
          [
           0,
           0,
           458,
           0,
           0,
           0,
           0,
           0,
           0,
           0,
           0,
           0,
           0,
           0,
           0,
           0,
           0,
           0,
           0,
           0,
           0
          ],
          [
           0,
           0,
           0,
           0,
           0,
           0,
           0,
           0,
           0,
           0,
           734,
           0,
           0,
           0,
           0,
           0,
           0,
           0,
           0,
           0,
           0
          ],
          [
           0,
           0,
           0,
           0,
           0,
           0,
           0,
           0,
           0,
           0,
           0,
           0,
           0,
           0,
           0,
           0,
           0,
           0,
           0,
           0,
           442
          ],
          [
           0,
           0,
           0,
           0,
           0,
           0,
           0,
           0,
           0,
           0,
           1071,
           0,
           0,
           0,
           0,
           0,
           0,
           0,
           0,
           0,
           0
          ],
          [
           0,
           0,
           0,
           0,
           1180,
           0,
           0,
           498,
           0,
           0,
           0,
           0,
           0,
           0,
           0,
           0,
           0,
           0,
           0,
           0,
           0
          ],
          [
           0,
           0,
           0,
           0,
           0,
           0,
           0,
           0,
           0,
           0,
           0,
           0,
           0,
           0,
           0,
           0,
           0,
           0,
           0,
           0,
           904
          ],
          [
           0,
           0,
           0,
           0,
           0,
           0,
           0,
           0,
           0,
           0,
           0,
           0,
           0,
           0,
           0,
           0,
           0,
           687,
           0,
           0,
           0
          ],
          [
           0,
           0,
           0,
           0,
           0,
           0,
           0,
           0,
           0,
           0,
           497.75,
           0,
           0,
           0,
           0,
           0,
           0,
           0,
           0,
           0,
           0
          ],
          [
           0,
           0,
           0,
           0,
           0,
           0,
           907,
           0,
           0,
           0,
           0,
           0,
           0,
           0,
           0,
           0,
           0,
           0,
           0,
           0,
           0
          ],
          [
           0,
           0,
           0,
           0,
           0,
           0,
           0,
           0,
           0,
           0,
           0,
           0,
           0,
           0,
           0,
           0,
           0,
           520.1676684000483,
           0,
           436.1676684000484,
           0
          ],
          [
           0,
           0,
           0,
           800,
           0,
           0,
           0,
           0,
           0,
           0,
           0,
           0,
           0,
           0,
           0,
           0,
           0,
           0,
           0,
           0,
           0
          ],
          [
           0,
           751,
           0,
           0,
           0,
           818,
           0,
           0,
           0,
           9574,
           0,
           0,
           0,
           0,
           0,
           0,
           0,
           0,
           0,
           0,
           910
          ]
         ]
        }
       ],
       "layout": {
        "template": {
         "data": {
          "bar": [
           {
            "error_x": {
             "color": "#2a3f5f"
            },
            "error_y": {
             "color": "#2a3f5f"
            },
            "marker": {
             "line": {
              "color": "#E5ECF6",
              "width": 0.5
             },
             "pattern": {
              "fillmode": "overlay",
              "size": 10,
              "solidity": 0.2
             }
            },
            "type": "bar"
           }
          ],
          "barpolar": [
           {
            "marker": {
             "line": {
              "color": "#E5ECF6",
              "width": 0.5
             },
             "pattern": {
              "fillmode": "overlay",
              "size": 10,
              "solidity": 0.2
             }
            },
            "type": "barpolar"
           }
          ],
          "carpet": [
           {
            "aaxis": {
             "endlinecolor": "#2a3f5f",
             "gridcolor": "white",
             "linecolor": "white",
             "minorgridcolor": "white",
             "startlinecolor": "#2a3f5f"
            },
            "baxis": {
             "endlinecolor": "#2a3f5f",
             "gridcolor": "white",
             "linecolor": "white",
             "minorgridcolor": "white",
             "startlinecolor": "#2a3f5f"
            },
            "type": "carpet"
           }
          ],
          "choropleth": [
           {
            "colorbar": {
             "outlinewidth": 0,
             "ticks": ""
            },
            "type": "choropleth"
           }
          ],
          "contour": [
           {
            "colorbar": {
             "outlinewidth": 0,
             "ticks": ""
            },
            "colorscale": [
             [
              0,
              "#0d0887"
             ],
             [
              0.1111111111111111,
              "#46039f"
             ],
             [
              0.2222222222222222,
              "#7201a8"
             ],
             [
              0.3333333333333333,
              "#9c179e"
             ],
             [
              0.4444444444444444,
              "#bd3786"
             ],
             [
              0.5555555555555556,
              "#d8576b"
             ],
             [
              0.6666666666666666,
              "#ed7953"
             ],
             [
              0.7777777777777778,
              "#fb9f3a"
             ],
             [
              0.8888888888888888,
              "#fdca26"
             ],
             [
              1,
              "#f0f921"
             ]
            ],
            "type": "contour"
           }
          ],
          "contourcarpet": [
           {
            "colorbar": {
             "outlinewidth": 0,
             "ticks": ""
            },
            "type": "contourcarpet"
           }
          ],
          "heatmap": [
           {
            "colorbar": {
             "outlinewidth": 0,
             "ticks": ""
            },
            "colorscale": [
             [
              0,
              "#0d0887"
             ],
             [
              0.1111111111111111,
              "#46039f"
             ],
             [
              0.2222222222222222,
              "#7201a8"
             ],
             [
              0.3333333333333333,
              "#9c179e"
             ],
             [
              0.4444444444444444,
              "#bd3786"
             ],
             [
              0.5555555555555556,
              "#d8576b"
             ],
             [
              0.6666666666666666,
              "#ed7953"
             ],
             [
              0.7777777777777778,
              "#fb9f3a"
             ],
             [
              0.8888888888888888,
              "#fdca26"
             ],
             [
              1,
              "#f0f921"
             ]
            ],
            "type": "heatmap"
           }
          ],
          "heatmapgl": [
           {
            "colorbar": {
             "outlinewidth": 0,
             "ticks": ""
            },
            "colorscale": [
             [
              0,
              "#0d0887"
             ],
             [
              0.1111111111111111,
              "#46039f"
             ],
             [
              0.2222222222222222,
              "#7201a8"
             ],
             [
              0.3333333333333333,
              "#9c179e"
             ],
             [
              0.4444444444444444,
              "#bd3786"
             ],
             [
              0.5555555555555556,
              "#d8576b"
             ],
             [
              0.6666666666666666,
              "#ed7953"
             ],
             [
              0.7777777777777778,
              "#fb9f3a"
             ],
             [
              0.8888888888888888,
              "#fdca26"
             ],
             [
              1,
              "#f0f921"
             ]
            ],
            "type": "heatmapgl"
           }
          ],
          "histogram": [
           {
            "marker": {
             "pattern": {
              "fillmode": "overlay",
              "size": 10,
              "solidity": 0.2
             }
            },
            "type": "histogram"
           }
          ],
          "histogram2d": [
           {
            "colorbar": {
             "outlinewidth": 0,
             "ticks": ""
            },
            "colorscale": [
             [
              0,
              "#0d0887"
             ],
             [
              0.1111111111111111,
              "#46039f"
             ],
             [
              0.2222222222222222,
              "#7201a8"
             ],
             [
              0.3333333333333333,
              "#9c179e"
             ],
             [
              0.4444444444444444,
              "#bd3786"
             ],
             [
              0.5555555555555556,
              "#d8576b"
             ],
             [
              0.6666666666666666,
              "#ed7953"
             ],
             [
              0.7777777777777778,
              "#fb9f3a"
             ],
             [
              0.8888888888888888,
              "#fdca26"
             ],
             [
              1,
              "#f0f921"
             ]
            ],
            "type": "histogram2d"
           }
          ],
          "histogram2dcontour": [
           {
            "colorbar": {
             "outlinewidth": 0,
             "ticks": ""
            },
            "colorscale": [
             [
              0,
              "#0d0887"
             ],
             [
              0.1111111111111111,
              "#46039f"
             ],
             [
              0.2222222222222222,
              "#7201a8"
             ],
             [
              0.3333333333333333,
              "#9c179e"
             ],
             [
              0.4444444444444444,
              "#bd3786"
             ],
             [
              0.5555555555555556,
              "#d8576b"
             ],
             [
              0.6666666666666666,
              "#ed7953"
             ],
             [
              0.7777777777777778,
              "#fb9f3a"
             ],
             [
              0.8888888888888888,
              "#fdca26"
             ],
             [
              1,
              "#f0f921"
             ]
            ],
            "type": "histogram2dcontour"
           }
          ],
          "mesh3d": [
           {
            "colorbar": {
             "outlinewidth": 0,
             "ticks": ""
            },
            "type": "mesh3d"
           }
          ],
          "parcoords": [
           {
            "line": {
             "colorbar": {
              "outlinewidth": 0,
              "ticks": ""
             }
            },
            "type": "parcoords"
           }
          ],
          "pie": [
           {
            "automargin": true,
            "type": "pie"
           }
          ],
          "scatter": [
           {
            "marker": {
             "colorbar": {
              "outlinewidth": 0,
              "ticks": ""
             }
            },
            "type": "scatter"
           }
          ],
          "scatter3d": [
           {
            "line": {
             "colorbar": {
              "outlinewidth": 0,
              "ticks": ""
             }
            },
            "marker": {
             "colorbar": {
              "outlinewidth": 0,
              "ticks": ""
             }
            },
            "type": "scatter3d"
           }
          ],
          "scattercarpet": [
           {
            "marker": {
             "colorbar": {
              "outlinewidth": 0,
              "ticks": ""
             }
            },
            "type": "scattercarpet"
           }
          ],
          "scattergeo": [
           {
            "marker": {
             "colorbar": {
              "outlinewidth": 0,
              "ticks": ""
             }
            },
            "type": "scattergeo"
           }
          ],
          "scattergl": [
           {
            "marker": {
             "colorbar": {
              "outlinewidth": 0,
              "ticks": ""
             }
            },
            "type": "scattergl"
           }
          ],
          "scattermapbox": [
           {
            "marker": {
             "colorbar": {
              "outlinewidth": 0,
              "ticks": ""
             }
            },
            "type": "scattermapbox"
           }
          ],
          "scatterpolar": [
           {
            "marker": {
             "colorbar": {
              "outlinewidth": 0,
              "ticks": ""
             }
            },
            "type": "scatterpolar"
           }
          ],
          "scatterpolargl": [
           {
            "marker": {
             "colorbar": {
              "outlinewidth": 0,
              "ticks": ""
             }
            },
            "type": "scatterpolargl"
           }
          ],
          "scatterternary": [
           {
            "marker": {
             "colorbar": {
              "outlinewidth": 0,
              "ticks": ""
             }
            },
            "type": "scatterternary"
           }
          ],
          "surface": [
           {
            "colorbar": {
             "outlinewidth": 0,
             "ticks": ""
            },
            "colorscale": [
             [
              0,
              "#0d0887"
             ],
             [
              0.1111111111111111,
              "#46039f"
             ],
             [
              0.2222222222222222,
              "#7201a8"
             ],
             [
              0.3333333333333333,
              "#9c179e"
             ],
             [
              0.4444444444444444,
              "#bd3786"
             ],
             [
              0.5555555555555556,
              "#d8576b"
             ],
             [
              0.6666666666666666,
              "#ed7953"
             ],
             [
              0.7777777777777778,
              "#fb9f3a"
             ],
             [
              0.8888888888888888,
              "#fdca26"
             ],
             [
              1,
              "#f0f921"
             ]
            ],
            "type": "surface"
           }
          ],
          "table": [
           {
            "cells": {
             "fill": {
              "color": "#EBF0F8"
             },
             "line": {
              "color": "white"
             }
            },
            "header": {
             "fill": {
              "color": "#C8D4E3"
             },
             "line": {
              "color": "white"
             }
            },
            "type": "table"
           }
          ]
         },
         "layout": {
          "annotationdefaults": {
           "arrowcolor": "#2a3f5f",
           "arrowhead": 0,
           "arrowwidth": 1
          },
          "autotypenumbers": "strict",
          "coloraxis": {
           "colorbar": {
            "outlinewidth": 0,
            "ticks": ""
           }
          },
          "colorscale": {
           "diverging": [
            [
             0,
             "#8e0152"
            ],
            [
             0.1,
             "#c51b7d"
            ],
            [
             0.2,
             "#de77ae"
            ],
            [
             0.3,
             "#f1b6da"
            ],
            [
             0.4,
             "#fde0ef"
            ],
            [
             0.5,
             "#f7f7f7"
            ],
            [
             0.6,
             "#e6f5d0"
            ],
            [
             0.7,
             "#b8e186"
            ],
            [
             0.8,
             "#7fbc41"
            ],
            [
             0.9,
             "#4d9221"
            ],
            [
             1,
             "#276419"
            ]
           ],
           "sequential": [
            [
             0,
             "#0d0887"
            ],
            [
             0.1111111111111111,
             "#46039f"
            ],
            [
             0.2222222222222222,
             "#7201a8"
            ],
            [
             0.3333333333333333,
             "#9c179e"
            ],
            [
             0.4444444444444444,
             "#bd3786"
            ],
            [
             0.5555555555555556,
             "#d8576b"
            ],
            [
             0.6666666666666666,
             "#ed7953"
            ],
            [
             0.7777777777777778,
             "#fb9f3a"
            ],
            [
             0.8888888888888888,
             "#fdca26"
            ],
            [
             1,
             "#f0f921"
            ]
           ],
           "sequentialminus": [
            [
             0,
             "#0d0887"
            ],
            [
             0.1111111111111111,
             "#46039f"
            ],
            [
             0.2222222222222222,
             "#7201a8"
            ],
            [
             0.3333333333333333,
             "#9c179e"
            ],
            [
             0.4444444444444444,
             "#bd3786"
            ],
            [
             0.5555555555555556,
             "#d8576b"
            ],
            [
             0.6666666666666666,
             "#ed7953"
            ],
            [
             0.7777777777777778,
             "#fb9f3a"
            ],
            [
             0.8888888888888888,
             "#fdca26"
            ],
            [
             1,
             "#f0f921"
            ]
           ]
          },
          "colorway": [
           "#636efa",
           "#EF553B",
           "#00cc96",
           "#ab63fa",
           "#FFA15A",
           "#19d3f3",
           "#FF6692",
           "#B6E880",
           "#FF97FF",
           "#FECB52"
          ],
          "font": {
           "color": "#2a3f5f"
          },
          "geo": {
           "bgcolor": "white",
           "lakecolor": "white",
           "landcolor": "#E5ECF6",
           "showlakes": true,
           "showland": true,
           "subunitcolor": "white"
          },
          "hoverlabel": {
           "align": "left"
          },
          "hovermode": "closest",
          "mapbox": {
           "style": "light"
          },
          "paper_bgcolor": "white",
          "plot_bgcolor": "#E5ECF6",
          "polar": {
           "angularaxis": {
            "gridcolor": "white",
            "linecolor": "white",
            "ticks": ""
           },
           "bgcolor": "#E5ECF6",
           "radialaxis": {
            "gridcolor": "white",
            "linecolor": "white",
            "ticks": ""
           }
          },
          "scene": {
           "xaxis": {
            "backgroundcolor": "#E5ECF6",
            "gridcolor": "white",
            "gridwidth": 2,
            "linecolor": "white",
            "showbackground": true,
            "ticks": "",
            "zerolinecolor": "white"
           },
           "yaxis": {
            "backgroundcolor": "#E5ECF6",
            "gridcolor": "white",
            "gridwidth": 2,
            "linecolor": "white",
            "showbackground": true,
            "ticks": "",
            "zerolinecolor": "white"
           },
           "zaxis": {
            "backgroundcolor": "#E5ECF6",
            "gridcolor": "white",
            "gridwidth": 2,
            "linecolor": "white",
            "showbackground": true,
            "ticks": "",
            "zerolinecolor": "white"
           }
          },
          "shapedefaults": {
           "line": {
            "color": "#2a3f5f"
           }
          },
          "ternary": {
           "aaxis": {
            "gridcolor": "white",
            "linecolor": "white",
            "ticks": ""
           },
           "baxis": {
            "gridcolor": "white",
            "linecolor": "white",
            "ticks": ""
           },
           "bgcolor": "#E5ECF6",
           "caxis": {
            "gridcolor": "white",
            "linecolor": "white",
            "ticks": ""
           }
          },
          "title": {
           "x": 0.05
          },
          "xaxis": {
           "automargin": true,
           "gridcolor": "white",
           "linecolor": "white",
           "ticks": "",
           "title": {
            "standoff": 15
           },
           "zerolinecolor": "white",
           "zerolinewidth": 2
          },
          "yaxis": {
           "automargin": true,
           "gridcolor": "white",
           "linecolor": "white",
           "ticks": "",
           "title": {
            "standoff": 15
           },
           "zerolinecolor": "white",
           "zerolinewidth": 2
          }
         }
        },
        "title": {
         "text": "Top 50 Worst Terror Attacks in History from 1982 to 2016"
        }
       }
      },
      "text/html": [
       "<div>                            <div id=\"ea052045-7a8a-47b3-af48-39fb9a867af8\" class=\"plotly-graph-div\" style=\"height:525px; width:100%;\"></div>            <script type=\"text/javascript\">                require([\"plotly\"], function(Plotly) {                    window.PLOTLYENV=window.PLOTLYENV || {};                                    if (document.getElementById(\"ea052045-7a8a-47b3-af48-39fb9a867af8\")) {                    Plotly.newPlot(                        \"ea052045-7a8a-47b3-af48-39fb9a867af8\",                        [{\"colorscale\":[[0,\"#edf8fb\"],[0.3,\"#00BFFF\"],[0.6,\"#8856a7\"],[1,\"#810f7c\"]],\"type\":\"heatmap\",\"x\":[1982,1984,1987,1992,1994,1995,1996,1997,1998,2001,2004,2005,2006,2007,2008,2009,2013,2014,2015,2016,2017],\"y\":[\"Afghanistan\",\"Algeria\",\"Chad\",\"Egypt\",\"Ethiopia\",\"France\",\"India\",\"Iran\",\"Iraq\",\"Japan\",\"Kenya\",\"Libya\",\"Mozambique\",\"Nepal\",\"Pakistan\",\"Russia\",\"Rwanda\",\"Somalia\",\"South Sudan\",\"Spain\",\"Sri Lanka\",\"Syria\",\"Tajikistan\",\"United States\"],\"z\":[[0.0,0.0,0.0,0.0,0.0,0.0,0.0,0.0,0.0,0.0,0.0,0.0,0.0,0.0,0.0,0.0,0.0,0.0,536.0,0.0,584.0],[0.0,0.0,0.0,0.0,0.0,0.0,0.0,450.0,0.0,0.0,0.0,0.0,0.0,0.0,0.0,0.0,0.0,0.0,0.0,0.0,0.0],[0.0,0.0,0.0,0.0,0.0,0.0,0.0,0.0,0.0,0.0,0.0,0.0,0.0,0.0,1161.0,0.0,0.0,0.0,0.0,0.0,0.0],[0.0,0.0,0.0,0.0,0.0,0.0,0.0,0.0,0.0,0.0,0.0,0.0,0.0,0.0,0.0,0.0,0.0,0.0,0.0,0.0,438.0],[0.0,0.0,0.0,500.0,0.0,0.0,0.0,0.0,0.0,0.0,0.0,0.0,0.0,0.0,0.0,0.0,0.0,0.0,0.0,0.0,0.0],[0.0,0.0,0.0,0.0,0.0,0.0,0.0,0.0,0.0,0.0,0.0,0.0,0.0,0.0,0.0,0.0,0.0,0.0,0.0,520.0,0.0],[0.0,0.0,0.0,0.0,0.0,0.0,0.0,0.0,0.0,0.0,0.0,0.0,1005.0,0.0,0.0,0.0,0.0,0.0,0.0,0.0,0.0],[760.0,0.0,0.0,0.0,0.0,0.0,0.0,0.0,0.0,0.0,0.0,0.0,0.0,0.0,0.0,0.0,0.0,0.0,0.0,0.0,0.0],[0.0,0.0,0.0,0.0,0.0,0.0,0.0,0.0,0.0,0.0,0.0,702.0,462.0,833.3333333333334,0.0,509.0,0.0,1066.445112266699,0.0,911.6666666666666,0.0],[0.0,0.0,0.0,0.0,507.0,3092.0,0.0,0.0,0.0,0.0,0.0,0.0,0.0,0.0,0.0,0.0,0.0,0.0,0.0,0.0,0.0],[0.0,0.0,0.0,0.0,0.0,0.0,0.0,0.0,4224.0,0.0,0.0,0.0,0.0,0.0,0.0,0.0,0.0,0.0,0.0,0.0,0.0],[0.0,0.0,0.0,0.0,0.0,0.0,0.0,0.0,0.0,0.0,0.0,0.0,0.0,0.0,0.0,0.0,442.0,0.0,0.0,0.0,0.0],[0.0,0.0,458.0,0.0,0.0,0.0,0.0,0.0,0.0,0.0,0.0,0.0,0.0,0.0,0.0,0.0,0.0,0.0,0.0,0.0,0.0],[0.0,0.0,0.0,0.0,0.0,0.0,0.0,0.0,0.0,0.0,734.0,0.0,0.0,0.0,0.0,0.0,0.0,0.0,0.0,0.0,0.0],[0.0,0.0,0.0,0.0,0.0,0.0,0.0,0.0,0.0,0.0,0.0,0.0,0.0,0.0,0.0,0.0,0.0,0.0,0.0,0.0,442.0],[0.0,0.0,0.0,0.0,0.0,0.0,0.0,0.0,0.0,0.0,1071.0,0.0,0.0,0.0,0.0,0.0,0.0,0.0,0.0,0.0,0.0],[0.0,0.0,0.0,0.0,1180.0,0.0,0.0,498.0,0.0,0.0,0.0,0.0,0.0,0.0,0.0,0.0,0.0,0.0,0.0,0.0,0.0],[0.0,0.0,0.0,0.0,0.0,0.0,0.0,0.0,0.0,0.0,0.0,0.0,0.0,0.0,0.0,0.0,0.0,0.0,0.0,0.0,904.0],[0.0,0.0,0.0,0.0,0.0,0.0,0.0,0.0,0.0,0.0,0.0,0.0,0.0,0.0,0.0,0.0,0.0,687.0,0.0,0.0,0.0],[0.0,0.0,0.0,0.0,0.0,0.0,0.0,0.0,0.0,0.0,497.75,0.0,0.0,0.0,0.0,0.0,0.0,0.0,0.0,0.0,0.0],[0.0,0.0,0.0,0.0,0.0,0.0,907.0,0.0,0.0,0.0,0.0,0.0,0.0,0.0,0.0,0.0,0.0,0.0,0.0,0.0,0.0],[0.0,0.0,0.0,0.0,0.0,0.0,0.0,0.0,0.0,0.0,0.0,0.0,0.0,0.0,0.0,0.0,0.0,520.1676684000483,0.0,436.1676684000484,0.0],[0.0,0.0,0.0,800.0,0.0,0.0,0.0,0.0,0.0,0.0,0.0,0.0,0.0,0.0,0.0,0.0,0.0,0.0,0.0,0.0,0.0],[0.0,751.0,0.0,0.0,0.0,818.0,0.0,0.0,0.0,9574.0,0.0,0.0,0.0,0.0,0.0,0.0,0.0,0.0,0.0,0.0,910.0]]}],                        {\"template\":{\"data\":{\"bar\":[{\"error_x\":{\"color\":\"#2a3f5f\"},\"error_y\":{\"color\":\"#2a3f5f\"},\"marker\":{\"line\":{\"color\":\"#E5ECF6\",\"width\":0.5},\"pattern\":{\"fillmode\":\"overlay\",\"size\":10,\"solidity\":0.2}},\"type\":\"bar\"}],\"barpolar\":[{\"marker\":{\"line\":{\"color\":\"#E5ECF6\",\"width\":0.5},\"pattern\":{\"fillmode\":\"overlay\",\"size\":10,\"solidity\":0.2}},\"type\":\"barpolar\"}],\"carpet\":[{\"aaxis\":{\"endlinecolor\":\"#2a3f5f\",\"gridcolor\":\"white\",\"linecolor\":\"white\",\"minorgridcolor\":\"white\",\"startlinecolor\":\"#2a3f5f\"},\"baxis\":{\"endlinecolor\":\"#2a3f5f\",\"gridcolor\":\"white\",\"linecolor\":\"white\",\"minorgridcolor\":\"white\",\"startlinecolor\":\"#2a3f5f\"},\"type\":\"carpet\"}],\"choropleth\":[{\"colorbar\":{\"outlinewidth\":0,\"ticks\":\"\"},\"type\":\"choropleth\"}],\"contour\":[{\"colorbar\":{\"outlinewidth\":0,\"ticks\":\"\"},\"colorscale\":[[0.0,\"#0d0887\"],[0.1111111111111111,\"#46039f\"],[0.2222222222222222,\"#7201a8\"],[0.3333333333333333,\"#9c179e\"],[0.4444444444444444,\"#bd3786\"],[0.5555555555555556,\"#d8576b\"],[0.6666666666666666,\"#ed7953\"],[0.7777777777777778,\"#fb9f3a\"],[0.8888888888888888,\"#fdca26\"],[1.0,\"#f0f921\"]],\"type\":\"contour\"}],\"contourcarpet\":[{\"colorbar\":{\"outlinewidth\":0,\"ticks\":\"\"},\"type\":\"contourcarpet\"}],\"heatmap\":[{\"colorbar\":{\"outlinewidth\":0,\"ticks\":\"\"},\"colorscale\":[[0.0,\"#0d0887\"],[0.1111111111111111,\"#46039f\"],[0.2222222222222222,\"#7201a8\"],[0.3333333333333333,\"#9c179e\"],[0.4444444444444444,\"#bd3786\"],[0.5555555555555556,\"#d8576b\"],[0.6666666666666666,\"#ed7953\"],[0.7777777777777778,\"#fb9f3a\"],[0.8888888888888888,\"#fdca26\"],[1.0,\"#f0f921\"]],\"type\":\"heatmap\"}],\"heatmapgl\":[{\"colorbar\":{\"outlinewidth\":0,\"ticks\":\"\"},\"colorscale\":[[0.0,\"#0d0887\"],[0.1111111111111111,\"#46039f\"],[0.2222222222222222,\"#7201a8\"],[0.3333333333333333,\"#9c179e\"],[0.4444444444444444,\"#bd3786\"],[0.5555555555555556,\"#d8576b\"],[0.6666666666666666,\"#ed7953\"],[0.7777777777777778,\"#fb9f3a\"],[0.8888888888888888,\"#fdca26\"],[1.0,\"#f0f921\"]],\"type\":\"heatmapgl\"}],\"histogram\":[{\"marker\":{\"pattern\":{\"fillmode\":\"overlay\",\"size\":10,\"solidity\":0.2}},\"type\":\"histogram\"}],\"histogram2d\":[{\"colorbar\":{\"outlinewidth\":0,\"ticks\":\"\"},\"colorscale\":[[0.0,\"#0d0887\"],[0.1111111111111111,\"#46039f\"],[0.2222222222222222,\"#7201a8\"],[0.3333333333333333,\"#9c179e\"],[0.4444444444444444,\"#bd3786\"],[0.5555555555555556,\"#d8576b\"],[0.6666666666666666,\"#ed7953\"],[0.7777777777777778,\"#fb9f3a\"],[0.8888888888888888,\"#fdca26\"],[1.0,\"#f0f921\"]],\"type\":\"histogram2d\"}],\"histogram2dcontour\":[{\"colorbar\":{\"outlinewidth\":0,\"ticks\":\"\"},\"colorscale\":[[0.0,\"#0d0887\"],[0.1111111111111111,\"#46039f\"],[0.2222222222222222,\"#7201a8\"],[0.3333333333333333,\"#9c179e\"],[0.4444444444444444,\"#bd3786\"],[0.5555555555555556,\"#d8576b\"],[0.6666666666666666,\"#ed7953\"],[0.7777777777777778,\"#fb9f3a\"],[0.8888888888888888,\"#fdca26\"],[1.0,\"#f0f921\"]],\"type\":\"histogram2dcontour\"}],\"mesh3d\":[{\"colorbar\":{\"outlinewidth\":0,\"ticks\":\"\"},\"type\":\"mesh3d\"}],\"parcoords\":[{\"line\":{\"colorbar\":{\"outlinewidth\":0,\"ticks\":\"\"}},\"type\":\"parcoords\"}],\"pie\":[{\"automargin\":true,\"type\":\"pie\"}],\"scatter\":[{\"marker\":{\"colorbar\":{\"outlinewidth\":0,\"ticks\":\"\"}},\"type\":\"scatter\"}],\"scatter3d\":[{\"line\":{\"colorbar\":{\"outlinewidth\":0,\"ticks\":\"\"}},\"marker\":{\"colorbar\":{\"outlinewidth\":0,\"ticks\":\"\"}},\"type\":\"scatter3d\"}],\"scattercarpet\":[{\"marker\":{\"colorbar\":{\"outlinewidth\":0,\"ticks\":\"\"}},\"type\":\"scattercarpet\"}],\"scattergeo\":[{\"marker\":{\"colorbar\":{\"outlinewidth\":0,\"ticks\":\"\"}},\"type\":\"scattergeo\"}],\"scattergl\":[{\"marker\":{\"colorbar\":{\"outlinewidth\":0,\"ticks\":\"\"}},\"type\":\"scattergl\"}],\"scattermapbox\":[{\"marker\":{\"colorbar\":{\"outlinewidth\":0,\"ticks\":\"\"}},\"type\":\"scattermapbox\"}],\"scatterpolar\":[{\"marker\":{\"colorbar\":{\"outlinewidth\":0,\"ticks\":\"\"}},\"type\":\"scatterpolar\"}],\"scatterpolargl\":[{\"marker\":{\"colorbar\":{\"outlinewidth\":0,\"ticks\":\"\"}},\"type\":\"scatterpolargl\"}],\"scatterternary\":[{\"marker\":{\"colorbar\":{\"outlinewidth\":0,\"ticks\":\"\"}},\"type\":\"scatterternary\"}],\"surface\":[{\"colorbar\":{\"outlinewidth\":0,\"ticks\":\"\"},\"colorscale\":[[0.0,\"#0d0887\"],[0.1111111111111111,\"#46039f\"],[0.2222222222222222,\"#7201a8\"],[0.3333333333333333,\"#9c179e\"],[0.4444444444444444,\"#bd3786\"],[0.5555555555555556,\"#d8576b\"],[0.6666666666666666,\"#ed7953\"],[0.7777777777777778,\"#fb9f3a\"],[0.8888888888888888,\"#fdca26\"],[1.0,\"#f0f921\"]],\"type\":\"surface\"}],\"table\":[{\"cells\":{\"fill\":{\"color\":\"#EBF0F8\"},\"line\":{\"color\":\"white\"}},\"header\":{\"fill\":{\"color\":\"#C8D4E3\"},\"line\":{\"color\":\"white\"}},\"type\":\"table\"}]},\"layout\":{\"annotationdefaults\":{\"arrowcolor\":\"#2a3f5f\",\"arrowhead\":0,\"arrowwidth\":1},\"autotypenumbers\":\"strict\",\"coloraxis\":{\"colorbar\":{\"outlinewidth\":0,\"ticks\":\"\"}},\"colorscale\":{\"diverging\":[[0,\"#8e0152\"],[0.1,\"#c51b7d\"],[0.2,\"#de77ae\"],[0.3,\"#f1b6da\"],[0.4,\"#fde0ef\"],[0.5,\"#f7f7f7\"],[0.6,\"#e6f5d0\"],[0.7,\"#b8e186\"],[0.8,\"#7fbc41\"],[0.9,\"#4d9221\"],[1,\"#276419\"]],\"sequential\":[[0.0,\"#0d0887\"],[0.1111111111111111,\"#46039f\"],[0.2222222222222222,\"#7201a8\"],[0.3333333333333333,\"#9c179e\"],[0.4444444444444444,\"#bd3786\"],[0.5555555555555556,\"#d8576b\"],[0.6666666666666666,\"#ed7953\"],[0.7777777777777778,\"#fb9f3a\"],[0.8888888888888888,\"#fdca26\"],[1.0,\"#f0f921\"]],\"sequentialminus\":[[0.0,\"#0d0887\"],[0.1111111111111111,\"#46039f\"],[0.2222222222222222,\"#7201a8\"],[0.3333333333333333,\"#9c179e\"],[0.4444444444444444,\"#bd3786\"],[0.5555555555555556,\"#d8576b\"],[0.6666666666666666,\"#ed7953\"],[0.7777777777777778,\"#fb9f3a\"],[0.8888888888888888,\"#fdca26\"],[1.0,\"#f0f921\"]]},\"colorway\":[\"#636efa\",\"#EF553B\",\"#00cc96\",\"#ab63fa\",\"#FFA15A\",\"#19d3f3\",\"#FF6692\",\"#B6E880\",\"#FF97FF\",\"#FECB52\"],\"font\":{\"color\":\"#2a3f5f\"},\"geo\":{\"bgcolor\":\"white\",\"lakecolor\":\"white\",\"landcolor\":\"#E5ECF6\",\"showlakes\":true,\"showland\":true,\"subunitcolor\":\"white\"},\"hoverlabel\":{\"align\":\"left\"},\"hovermode\":\"closest\",\"mapbox\":{\"style\":\"light\"},\"paper_bgcolor\":\"white\",\"plot_bgcolor\":\"#E5ECF6\",\"polar\":{\"angularaxis\":{\"gridcolor\":\"white\",\"linecolor\":\"white\",\"ticks\":\"\"},\"bgcolor\":\"#E5ECF6\",\"radialaxis\":{\"gridcolor\":\"white\",\"linecolor\":\"white\",\"ticks\":\"\"}},\"scene\":{\"xaxis\":{\"backgroundcolor\":\"#E5ECF6\",\"gridcolor\":\"white\",\"gridwidth\":2,\"linecolor\":\"white\",\"showbackground\":true,\"ticks\":\"\",\"zerolinecolor\":\"white\"},\"yaxis\":{\"backgroundcolor\":\"#E5ECF6\",\"gridcolor\":\"white\",\"gridwidth\":2,\"linecolor\":\"white\",\"showbackground\":true,\"ticks\":\"\",\"zerolinecolor\":\"white\"},\"zaxis\":{\"backgroundcolor\":\"#E5ECF6\",\"gridcolor\":\"white\",\"gridwidth\":2,\"linecolor\":\"white\",\"showbackground\":true,\"ticks\":\"\",\"zerolinecolor\":\"white\"}},\"shapedefaults\":{\"line\":{\"color\":\"#2a3f5f\"}},\"ternary\":{\"aaxis\":{\"gridcolor\":\"white\",\"linecolor\":\"white\",\"ticks\":\"\"},\"baxis\":{\"gridcolor\":\"white\",\"linecolor\":\"white\",\"ticks\":\"\"},\"bgcolor\":\"#E5ECF6\",\"caxis\":{\"gridcolor\":\"white\",\"linecolor\":\"white\",\"ticks\":\"\"}},\"title\":{\"x\":0.05},\"xaxis\":{\"automargin\":true,\"gridcolor\":\"white\",\"linecolor\":\"white\",\"ticks\":\"\",\"title\":{\"standoff\":15},\"zerolinecolor\":\"white\",\"zerolinewidth\":2},\"yaxis\":{\"automargin\":true,\"gridcolor\":\"white\",\"linecolor\":\"white\",\"ticks\":\"\",\"title\":{\"standoff\":15},\"zerolinecolor\":\"white\",\"zerolinewidth\":2}}},\"title\":{\"text\":\"Top 50 Worst Terror Attacks in History from 1982 to 2016\"}},                        {\"responsive\": true}                    ).then(function(){\n",
       "                            \n",
       "var gd = document.getElementById('ea052045-7a8a-47b3-af48-39fb9a867af8');\n",
       "var x = new MutationObserver(function (mutations, observer) {{\n",
       "        var display = window.getComputedStyle(gd).display;\n",
       "        if (!display || display === 'none') {{\n",
       "            console.log([gd, 'removed!']);\n",
       "            Plotly.purge(gd);\n",
       "            observer.disconnect();\n",
       "        }}\n",
       "}});\n",
       "\n",
       "// Listen for the removal of the full notebook cells\n",
       "var notebookContainer = gd.closest('#notebook-container');\n",
       "if (notebookContainer) {{\n",
       "    x.observe(notebookContainer, {childList: true});\n",
       "}}\n",
       "\n",
       "// Listen for the clearing of the current output cell\n",
       "var outputEl = gd.closest('.output');\n",
       "if (outputEl) {{\n",
       "    x.observe(outputEl, {childList: true});\n",
       "}}\n",
       "\n",
       "                        })                };                });            </script>        </div>"
      ]
     },
     "metadata": {},
     "output_type": "display_data"
    }
   ],
   "source": [
    "import plotly.offline as py\n",
    "py.init_notebook_mode(connected=True)\n",
    "import plotly.graph_objs as go\n",
    "trr['casualities'] = trr['Killed'] + trr['Wounded']\n",
    "trr1 = trr.sort_values(by='casualities',ascending=False)[:50]\n",
    "heat=trr1.pivot_table(index='Country',columns='Year',values='casualities')\n",
    "heat.fillna(0,inplace=True)\n",
    "colorscale = [[0, '#edf8fb'], [.3, '#00BFFF'],  [.6, '#8856a7'],  [1, '#810f7c']]\n",
    "heatmap = go.Heatmap(z=heat.values, x=heat.columns, y=heat.index, colorscale=colorscale)\n",
    "data = [heatmap]\n",
    "layout = go.Layout(\n",
    "    title='Top 50 Worst Terror Attacks in History from 1982 to 2016')\n",
    "fig = go.Figure(data=data, layout=layout)\n",
    "py.iplot(fig, filename='heatmap',show_link=False)"
   ]
  },
  {
   "cell_type": "markdown",
   "metadata": {},
   "source": [
    "\n",
    "1-The Worst Attack took place in the US in the year 2001 with a total casualty of 9574.\n",
    "\n",
    "2-After the 9/11 attacks the security measures in the US were escalated in such a way that no attacks took place until the year 2017\n",
    ".\n",
    "3-Kenya had the 2nd worst attack in the 1998 with 4224 Casualties, after that proper security measures were taken to avoid any such incident.\n",
    "\n",
    "4-Russia had its worst attack in the year 2004 with 1071 casualties, since then there has been no major attack."
   ]
  },
  {
   "cell_type": "markdown",
   "metadata": {},
   "source": [
    "# Top 10 countries to be affected with Terror Attacks"
   ]
  },
  {
   "cell_type": "code",
   "execution_count": 23,
   "metadata": {},
   "outputs": [
    {
     "data": {
      "image/png": "[encoded data removed]",
      "text/plain": [
       "<Figure size 1080x432 with 1 Axes>"
      ]
     },
     "metadata": {
      "needs_background": "light"
     },
     "output_type": "display_data"
    }
   ],
   "source": [
    "plt.subplots(figsize=(15,6))\n",
    "style1  = {'family': 'Times New Roman', 'color': 'Tomato', 'size': 25}\n",
    "style2  = {'family': 'Times New Roman', 'color': 'DodgerBlue', 'size': 20}\n",
    "sns.barplot(trr['Country'].value_counts()[:10].index, trr['Country'].value_counts()[:10].values,palette='rocket')\n",
    "plt.title('Top Countries Affected', fontdict=style1 )\n",
    "plt.xlabel('Countries' , fontdict=style2 )\n",
    "plt.ylabel('Count', fontdict=style2 )\n",
    "#plt.xticks(rotation= 90)\n",
    "plt.show()\n"
   ]
  },
  {
   "cell_type": "code",
   "execution_count": 24,
   "metadata": {},
   "outputs": [
    {
     "data": {
      "text/html": [
       "<div>\n",
       "<style scoped>\n",
       "    .dataframe tbody tr th:only-of-type {\n",
       "        vertical-align: middle;\n",
       "    }\n",
       "\n",
       "    .dataframe tbody tr th {\n",
       "        vertical-align: top;\n",
       "    }\n",
       "\n",
       "    .dataframe thead th {\n",
       "        text-align: right;\n",
       "    }\n",
       "</style>\n",
       "<table border=\"1\" class=\"dataframe\">\n",
       "  <thead>\n",
       "    <tr style=\"text-align: right;\">\n",
       "      <th>Region</th>\n",
       "      <th>Australasia &amp; Oceania</th>\n",
       "      <th>Central America &amp; Caribbean</th>\n",
       "      <th>Central Asia</th>\n",
       "      <th>East Asia</th>\n",
       "      <th>Eastern Europe</th>\n",
       "      <th>Middle East &amp; North Africa</th>\n",
       "      <th>North America</th>\n",
       "      <th>South America</th>\n",
       "      <th>South Asia</th>\n",
       "      <th>Southeast Asia</th>\n",
       "      <th>Sub-Saharan Africa</th>\n",
       "      <th>Western Europe</th>\n",
       "    </tr>\n",
       "    <tr>\n",
       "      <th>Weapon_type</th>\n",
       "      <th></th>\n",
       "      <th></th>\n",
       "      <th></th>\n",
       "      <th></th>\n",
       "      <th></th>\n",
       "      <th></th>\n",
       "      <th></th>\n",
       "      <th></th>\n",
       "      <th></th>\n",
       "      <th></th>\n",
       "      <th></th>\n",
       "      <th></th>\n",
       "    </tr>\n",
       "  </thead>\n",
       "  <tbody>\n",
       "    <tr>\n",
       "      <th>Biological</th>\n",
       "      <td>0</td>\n",
       "      <td>0</td>\n",
       "      <td>0</td>\n",
       "      <td>2</td>\n",
       "      <td>0</td>\n",
       "      <td>1</td>\n",
       "      <td>24</td>\n",
       "      <td>1</td>\n",
       "      <td>2</td>\n",
       "      <td>0</td>\n",
       "      <td>3</td>\n",
       "      <td>2</td>\n",
       "    </tr>\n",
       "    <tr>\n",
       "      <th>Chemical</th>\n",
       "      <td>11</td>\n",
       "      <td>2</td>\n",
       "      <td>2</td>\n",
       "      <td>17</td>\n",
       "      <td>12</td>\n",
       "      <td>73</td>\n",
       "      <td>26</td>\n",
       "      <td>26</td>\n",
       "      <td>83</td>\n",
       "      <td>11</td>\n",
       "      <td>12</td>\n",
       "      <td>46</td>\n",
       "    </tr>\n",
       "    <tr>\n",
       "      <th>Explosives</th>\n",
       "      <td>80</td>\n",
       "      <td>3149</td>\n",
       "      <td>254</td>\n",
       "      <td>333</td>\n",
       "      <td>3089</td>\n",
       "      <td>32283</td>\n",
       "      <td>1557</td>\n",
       "      <td>9098</td>\n",
       "      <td>22568</td>\n",
       "      <td>5039</td>\n",
       "      <td>6319</td>\n",
       "      <td>8657</td>\n",
       "    </tr>\n",
       "    <tr>\n",
       "      <th>Fake Weapons</th>\n",
       "      <td>0</td>\n",
       "      <td>0</td>\n",
       "      <td>1</td>\n",
       "      <td>4</td>\n",
       "      <td>4</td>\n",
       "      <td>6</td>\n",
       "      <td>5</td>\n",
       "      <td>3</td>\n",
       "      <td>3</td>\n",
       "      <td>0</td>\n",
       "      <td>1</td>\n",
       "      <td>6</td>\n",
       "    </tr>\n",
       "    <tr>\n",
       "      <th>Firearms</th>\n",
       "      <td>74</td>\n",
       "      <td>5679</td>\n",
       "      <td>232</td>\n",
       "      <td>41</td>\n",
       "      <td>1461</td>\n",
       "      <td>11877</td>\n",
       "      <td>682</td>\n",
       "      <td>6525</td>\n",
       "      <td>15169</td>\n",
       "      <td>5634</td>\n",
       "      <td>7499</td>\n",
       "      <td>3651</td>\n",
       "    </tr>\n",
       "    <tr>\n",
       "      <th>Incendiary</th>\n",
       "      <td>74</td>\n",
       "      <td>435</td>\n",
       "      <td>15</td>\n",
       "      <td>252</td>\n",
       "      <td>186</td>\n",
       "      <td>1181</td>\n",
       "      <td>897</td>\n",
       "      <td>1077</td>\n",
       "      <td>2285</td>\n",
       "      <td>837</td>\n",
       "      <td>840</td>\n",
       "      <td>3056</td>\n",
       "    </tr>\n",
       "    <tr>\n",
       "      <th>Melee</th>\n",
       "      <td>10</td>\n",
       "      <td>65</td>\n",
       "      <td>14</td>\n",
       "      <td>82</td>\n",
       "      <td>90</td>\n",
       "      <td>1227</td>\n",
       "      <td>74</td>\n",
       "      <td>131</td>\n",
       "      <td>998</td>\n",
       "      <td>147</td>\n",
       "      <td>478</td>\n",
       "      <td>339</td>\n",
       "    </tr>\n",
       "    <tr>\n",
       "      <th>Other</th>\n",
       "      <td>1</td>\n",
       "      <td>0</td>\n",
       "      <td>0</td>\n",
       "      <td>3</td>\n",
       "      <td>4</td>\n",
       "      <td>23</td>\n",
       "      <td>18</td>\n",
       "      <td>6</td>\n",
       "      <td>16</td>\n",
       "      <td>4</td>\n",
       "      <td>19</td>\n",
       "      <td>20</td>\n",
       "    </tr>\n",
       "    <tr>\n",
       "      <th>Radiological</th>\n",
       "      <td>0</td>\n",
       "      <td>0</td>\n",
       "      <td>0</td>\n",
       "      <td>10</td>\n",
       "      <td>0</td>\n",
       "      <td>0</td>\n",
       "      <td>1</td>\n",
       "      <td>0</td>\n",
       "      <td>1</td>\n",
       "      <td>0</td>\n",
       "      <td>0</td>\n",
       "      <td>2</td>\n",
       "    </tr>\n",
       "    <tr>\n",
       "      <th>Sabotage Equipment</th>\n",
       "      <td>0</td>\n",
       "      <td>5</td>\n",
       "      <td>0</td>\n",
       "      <td>3</td>\n",
       "      <td>4</td>\n",
       "      <td>10</td>\n",
       "      <td>19</td>\n",
       "      <td>15</td>\n",
       "      <td>46</td>\n",
       "      <td>21</td>\n",
       "      <td>7</td>\n",
       "      <td>11</td>\n",
       "    </tr>\n",
       "    <tr>\n",
       "      <th>Unknown</th>\n",
       "      <td>31</td>\n",
       "      <td>1005</td>\n",
       "      <td>45</td>\n",
       "      <td>47</td>\n",
       "      <td>293</td>\n",
       "      <td>3724</td>\n",
       "      <td>138</td>\n",
       "      <td>2093</td>\n",
       "      <td>3788</td>\n",
       "      <td>792</td>\n",
       "      <td>2371</td>\n",
       "      <td>830</td>\n",
       "    </tr>\n",
       "    <tr>\n",
       "      <th>Vehicle (not to include vehicle-borne explosives, i.e., car or truck bombs)</th>\n",
       "      <td>1</td>\n",
       "      <td>4</td>\n",
       "      <td>0</td>\n",
       "      <td>8</td>\n",
       "      <td>1</td>\n",
       "      <td>69</td>\n",
       "      <td>15</td>\n",
       "      <td>3</td>\n",
       "      <td>15</td>\n",
       "      <td>0</td>\n",
       "      <td>1</td>\n",
       "      <td>19</td>\n",
       "    </tr>\n",
       "  </tbody>\n",
       "</table>\n",
       "</div>"
      ],
      "text/plain": [
       "Region                                              Australasia & Oceania  \\\n",
       "Weapon_type                                                                 \n",
       "Biological                                                              0   \n",
       "Chemical                                                               11   \n",
       "Explosives                                                             80   \n",
       "Fake Weapons                                                            0   \n",
       "Firearms                                                               74   \n",
       "Incendiary                                                             74   \n",
       "Melee                                                                  10   \n",
       "Other                                                                   1   \n",
       "Radiological                                                            0   \n",
       "Sabotage Equipment                                                      0   \n",
       "Unknown                                                                31   \n",
       "Vehicle (not to include vehicle-borne explosive...                      1   \n",
       "\n",
       "Region                                              Central America & Caribbean  \\\n",
       "Weapon_type                                                                       \n",
       "Biological                                                                    0   \n",
       "Chemical                                                                      2   \n",
       "Explosives                                                                 3149   \n",
       "Fake Weapons                                                                  0   \n",
       "Firearms                                                                   5679   \n",
       "Incendiary                                                                  435   \n",
       "Melee                                                                        65   \n",
       "Other                                                                         0   \n",
       "Radiological                                                                  0   \n",
       "Sabotage Equipment                                                            5   \n",
       "Unknown                                                                    1005   \n",
       "Vehicle (not to include vehicle-borne explosive...                            4   \n",
       "\n",
       "Region                                              Central Asia  East Asia  \\\n",
       "Weapon_type                                                                   \n",
       "Biological                                                     0          2   \n",
       "Chemical                                                       2         17   \n",
       "Explosives                                                   254        333   \n",
       "Fake Weapons                                                   1          4   \n",
       "Firearms                                                     232         41   \n",
       "Incendiary                                                    15        252   \n",
       "Melee                                                         14         82   \n",
       "Other                                                          0          3   \n",
       "Radiological                                                   0         10   \n",
       "Sabotage Equipment                                             0          3   \n",
       "Unknown                                                       45         47   \n",
       "Vehicle (not to include vehicle-borne explosive...             0          8   \n",
       "\n",
       "Region                                              Eastern Europe  \\\n",
       "Weapon_type                                                          \n",
       "Biological                                                       0   \n",
       "Chemical                                                        12   \n",
       "Explosives                                                    3089   \n",
       "Fake Weapons                                                     4   \n",
       "Firearms                                                      1461   \n",
       "Incendiary                                                     186   \n",
       "Melee                                                           90   \n",
       "Other                                                            4   \n",
       "Radiological                                                     0   \n",
       "Sabotage Equipment                                               4   \n",
       "Unknown                                                        293   \n",
       "Vehicle (not to include vehicle-borne explosive...               1   \n",
       "\n",
       "Region                                              Middle East & North Africa  \\\n",
       "Weapon_type                                                                      \n",
       "Biological                                                                   1   \n",
       "Chemical                                                                    73   \n",
       "Explosives                                                               32283   \n",
       "Fake Weapons                                                                 6   \n",
       "Firearms                                                                 11877   \n",
       "Incendiary                                                                1181   \n",
       "Melee                                                                     1227   \n",
       "Other                                                                       23   \n",
       "Radiological                                                                 0   \n",
       "Sabotage Equipment                                                          10   \n",
       "Unknown                                                                   3724   \n",
       "Vehicle (not to include vehicle-borne explosive...                          69   \n",
       "\n",
       "Region                                              North America  \\\n",
       "Weapon_type                                                         \n",
       "Biological                                                     24   \n",
       "Chemical                                                       26   \n",
       "Explosives                                                   1557   \n",
       "Fake Weapons                                                    5   \n",
       "Firearms                                                      682   \n",
       "Incendiary                                                    897   \n",
       "Melee                                                          74   \n",
       "Other                                                          18   \n",
       "Radiological                                                    1   \n",
       "Sabotage Equipment                                             19   \n",
       "Unknown                                                       138   \n",
       "Vehicle (not to include vehicle-borne explosive...             15   \n",
       "\n",
       "Region                                              South America  South Asia  \\\n",
       "Weapon_type                                                                     \n",
       "Biological                                                      1           2   \n",
       "Chemical                                                       26          83   \n",
       "Explosives                                                   9098       22568   \n",
       "Fake Weapons                                                    3           3   \n",
       "Firearms                                                     6525       15169   \n",
       "Incendiary                                                   1077        2285   \n",
       "Melee                                                         131         998   \n",
       "Other                                                           6          16   \n",
       "Radiological                                                    0           1   \n",
       "Sabotage Equipment                                             15          46   \n",
       "Unknown                                                      2093        3788   \n",
       "Vehicle (not to include vehicle-borne explosive...              3          15   \n",
       "\n",
       "Region                                              Southeast Asia  \\\n",
       "Weapon_type                                                          \n",
       "Biological                                                       0   \n",
       "Chemical                                                        11   \n",
       "Explosives                                                    5039   \n",
       "Fake Weapons                                                     0   \n",
       "Firearms                                                      5634   \n",
       "Incendiary                                                     837   \n",
       "Melee                                                          147   \n",
       "Other                                                            4   \n",
       "Radiological                                                     0   \n",
       "Sabotage Equipment                                              21   \n",
       "Unknown                                                        792   \n",
       "Vehicle (not to include vehicle-borne explosive...               0   \n",
       "\n",
       "Region                                              Sub-Saharan Africa  \\\n",
       "Weapon_type                                                              \n",
       "Biological                                                           3   \n",
       "Chemical                                                            12   \n",
       "Explosives                                                        6319   \n",
       "Fake Weapons                                                         1   \n",
       "Firearms                                                          7499   \n",
       "Incendiary                                                         840   \n",
       "Melee                                                              478   \n",
       "Other                                                               19   \n",
       "Radiological                                                         0   \n",
       "Sabotage Equipment                                                   7   \n",
       "Unknown                                                           2371   \n",
       "Vehicle (not to include vehicle-borne explosive...                   1   \n",
       "\n",
       "Region                                              Western Europe  \n",
       "Weapon_type                                                         \n",
       "Biological                                                       2  \n",
       "Chemical                                                        46  \n",
       "Explosives                                                    8657  \n",
       "Fake Weapons                                                     6  \n",
       "Firearms                                                      3651  \n",
       "Incendiary                                                    3056  \n",
       "Melee                                                          339  \n",
       "Other                                                           20  \n",
       "Radiological                                                     2  \n",
       "Sabotage Equipment                                              11  \n",
       "Unknown                                                        830  \n",
       "Vehicle (not to include vehicle-borne explosive...              19  "
      ]
     },
     "execution_count": 24,
     "metadata": {},
     "output_type": "execute_result"
    }
   ],
   "source": [
    "weapon_cross = pd.crosstab(trr[\"Weapon_type\"], trr[\"Region\"])\n",
    "weapon_cross"
   ]
  },
  {
   "cell_type": "code",
   "execution_count": 25,
   "metadata": {},
   "outputs": [
    {
     "data": {
      "image/png": "[encoded data removed]",
      "text/plain": [
       "<Figure size 1440x720 with 1 Axes>"
      ]
     },
     "metadata": {
      "needs_background": "light"
     },
     "output_type": "display_data"
    }
   ],
   "source": [
    "plt.figure(figsize=(20,10))\n",
    "sns.countplot(x=\"Weapon_type\", hue=\"Region\", data=trr)\n",
    "style1  = {'family': 'Times New Roman', 'color': 'Tomato', 'size': 25}\n",
    "style2  = {'family': 'Times New Roman', 'color': 'DodgerBlue', 'size': 20}\n",
    "plt.title(\"Weapon Types by Regions\", fontdict = style1)\n",
    "plt.ylabel(\"Weapon Types\", fontdict = style2 )\n",
    "plt.xlabel(\"Count\", fontdict = style2)\n",
    "plt.xticks(rotation=90)\n",
    "plt.show()"
   ]
  },
  {
   "cell_type": "code",
   "execution_count": 26,
   "metadata": {},
   "outputs": [
    {
     "data": {
      "image/png": "[encoded data removed]",
      "text/plain": [
       "<Figure size 1440x720 with 1 Axes>"
      ]
     },
     "metadata": {
      "needs_background": "light"
     },
     "output_type": "display_data"
    }
   ],
   "source": [
    "plt.figure(figsize=(20,10))\n",
    "sns.countplot(x=\"Target_type\", hue=\"Region\", data=trr)\n",
    "style1  = {'family': 'Times New Roman', 'color': 'Tomato', 'size': 25}\n",
    "style2  = {'family': 'Times New Roman', 'color': 'DodgerBlue', 'size': 20}\n",
    "plt.title(\"Weapon Types by Regions\", fontdict = style1)\n",
    "plt.ylabel(\"Target Types\", fontdict = style2 )\n",
    "plt.xlabel(\"Count\", fontdict = style2)\n",
    "plt.xticks(rotation=90)\n",
    "plt.show()"
   ]
  },
  {
   "cell_type": "markdown",
   "metadata": {},
   "source": [
    "1-In middle East region most attacks have been carried out on Private citizens followed by military.\n",
    "\n",
    "2-Most of the transportation and violent political party attacks have been witnessed by the South Asian Countries.\n",
    "\n",
    "3-The South Asian countries need to tighten up security measures in the police, military, Government, Business,cational, and religious sectors.\n",
    "\n",
    "\n",
    "\n",
    "\n",
    "***Evaluating***"
   ]
  },
  {
   "cell_type": "code",
   "execution_count": 27,
   "metadata": {},
   "outputs": [
    {
     "name": "stdout",
     "output_type": "stream",
     "text": [
      "Country with the most attacks: Iraq\n",
      "City with the most attacks: Baghdad\n",
      "Region with the most attacks: Middle East & North Africa\n",
      "Year with the most attacks: 2014\n",
      "Month with the most attacks: 5\n",
      "Group with the most attacks: Taliban\n",
      "Most Attack Types: Bombing/Explosion\n",
      "Most Target Types: Private Citizens & Property\n"
     ]
    }
   ],
   "source": [
    "print(\"Country with the most attacks:\",trr['Country'].value_counts().idxmax())\n",
    "print(\"City with the most attacks:\",trr['city'].value_counts().index[1]) \n",
    "print(\"Region with the most attacks:\",trr['Region'].value_counts().idxmax())\n",
    "print(\"Year with the most attacks:\",trr['Year'].value_counts().idxmax())\n",
    "print(\"Month with the most attacks:\",trr['Month'].value_counts().idxmax())\n",
    "print(\"Group with the most attacks:\",trr['Group'].value_counts().index[1])\n",
    "print(\"Most Attack Types:\",trr['AttackType'].value_counts().idxmax())\n",
    "print(\"Most Target Types:\",trr['Target_type'].value_counts().idxmax())"
   ]
  },
  {
   "cell_type": "markdown",
   "metadata": {},
   "source": [
    "# Conclusion"
   ]
  },
  {
   "cell_type": "markdown",
   "metadata": {},
   "source": [
    "There has been a gradual increase in Terror Activities since 2004.\n",
    "\n",
    "Highest number of terror activities occurred in the year 2014.\n",
    "\n",
    "After 2014 the terror activities started to decrease.\n",
    "\n",
    "Maximum Attacks have been in Central America, followed by Australasia in the year 2010.\n",
    "\n",
    "There have been very less terror casualties in: East Asia, North America.\n",
    "    \n",
    "In East Asia the number of attacks gradually reduced to 0 after the year 1990.\n",
    "\n",
    "The Worst Attack took place in the US in the year 2001 with a total casualty of 9574.\n",
    "\n",
    "After the 9/11 attack the security measures in the US were escalated in such a way that no attacks took place until the year 2017.\n",
    "\n",
    "Kenya had the 2nd worst attack in the 1998 with 4224 Casualties, after that proper security measures were taken to avoid any such incident.\n",
    "\n",
    "Russia had its worst attack in the year 2004 with 1071 casualties, since then there has been no major attack.\n",
    "\n",
    "Mostly there is usage of Explosives and Firearms as Weapons.\n",
    "\n",
    "In middle East region most attacks have been carried out on Private citizens followed by military.\n",
    "\n",
    "Most of the transportation and violent political party attacks have been witnessed by the South Asian Countries.\n",
    "\n",
    "The South Asian countries need to tighten up security measures in the police, military, Government, Business, Educational, and religious sectors.\n"
   ]
  },
  {
   "cell_type": "code",
   "execution_count": null,
   "metadata": {},
   "outputs": [],
   "source": []
  },
  {
   "cell_type": "markdown",
   "metadata": {},
   "source": []
  }
 ],
 "metadata": {
  "kernelspec": {
   "display_name": "Python 3",
   "language": "python",
   "name": "python3"
  },
  "language_info": {
   "codemirror_mode": {
    "name": "ipython",
    "version": 3
   },
   "file_extension": ".py",
   "mimetype": "text/x-python",
   "name": "python",
   "nbconvert_exporter": "python",
   "pygments_lexer": "ipython3",
   "version": "3.8.3"
  }
 },
 "nbformat": 4,
 "nbformat_minor": 4
}
